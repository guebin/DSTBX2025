{
 "cells": [
  {
   "cell_type": "raw",
   "id": "17aa421d-d60e-4b89-9e3f-b04c0362def1",
   "metadata": {
    "vscode": {
     "languageId": "raw"
    }
   },
   "source": [
    "---\n",
    "title: \"Day5: `html` -- template\"\n",
    "author: \"최규빈\"\n",
    "date: \"01/02/2025\"\n",
    "---"
   ]
  },
  {
   "cell_type": "markdown",
   "id": "bde2745f-2f67-4231-95ba-8ce377e11404",
   "metadata": {},
   "source": [
    "## `*.html`"
   ]
  },
  {
   "cell_type": "markdown",
   "id": "c391fc07-02b0-4f1e-85b8-545083818883",
   "metadata": {},
   "source": [
    "`-` 일반적으로 `html`은 \"볼 수 있다\" "
   ]
  },
  {
   "cell_type": "markdown",
   "id": "80fb701d-e6da-4678-b5e1-401f89af77b3",
   "metadata": {},
   "source": [
    "`-` 강의노트를 저장하는 방법? \n",
    "\n",
    "- <https://guebin.github.io/DL2024/posts/01wk-1.html> 저장해보기"
   ]
  },
  {
   "cell_type": "markdown",
   "id": "659b5f96-2c99-4bc6-90e7-1020f851434a",
   "metadata": {},
   "source": [
    "`-` 네이버저장해보기 \n",
    "\n",
    "- <https://www.naver.com/> 저장해보기\n",
    "- 거의 하드에 네이버가 깔린 느낌임.\n",
    "- 저장된 html은 인터넷이 없어도 open 가능. \n"
   ]
  },
  {
   "cell_type": "markdown",
   "id": "e555e107-7a77-439f-b4c1-53cb204b0f19",
   "metadata": {},
   "source": [
    "`-` `html`는 `pdf`와 같이 읽을 수 있는 문서의 형태임\n",
    "\n",
    "- 웹에서 보이는것은 보통 `html` 형식으로 재 저장할 수 있음."
   ]
  },
  {
   "cell_type": "markdown",
   "id": "c1d7e14c-5604-4da6-bf63-cafea0b260ef",
   "metadata": {},
   "source": [
    "`-` `pdf`와의 차이점? `HTML`은 다른문서와의 연결성을 더 강조한다. \n",
    "\n",
    "- `HTML`의 `HT`는 HyperText 를 의미함. \n",
    "-  하이퍼텍스트란 문서 내에서 다른 문서로의 링크를 포함한 텍스트를 의미함. "
   ]
  },
  {
   "cell_type": "markdown",
   "id": "ef78e391-0c61-47e4-bf6b-395416619705",
   "metadata": {},
   "source": [
    "## 홈페이지 통째로 `html`화"
   ]
  },
  {
   "cell_type": "markdown",
   "id": "54e09e7f-b815-4be1-b056-0b61b245e69c",
   "metadata": {},
   "source": [
    "`-` `MP2024` 를 다운로드해보자. \n",
    "\n",
    "- <https://github.com/guebin/MP2024> 접속\n",
    "- ZIP으로 다운로드\n"
   ]
  },
  {
   "cell_type": "markdown",
   "id": "14e8cdf8-e564-4f6c-ae9c-dabdf4db82f5",
   "metadata": {},
   "source": [
    "`-` `docs` 폴더를 제외하고 모두 삭제"
   ]
  },
  {
   "cell_type": "markdown",
   "id": "544e7e22-66c3-443a-afee-b33eb5831946",
   "metadata": {},
   "source": [
    "`-` `docs` 폴더를 탐색하기 "
   ]
  },
  {
   "cell_type": "markdown",
   "id": "b4f6a71f-0e00-46d6-bb7a-97c11014c569",
   "metadata": {},
   "source": [
    "`-` 수정해보기: 퀴즈1의 점수는 학점에 포함하지 않습니다 $\\to$ 퀴즈111의 점수는 학점에 포함하지 않습니다."
   ]
  },
  {
   "cell_type": "markdown",
   "id": "7b920f2d-5af1-4b97-bdc5-042686e88a2f",
   "metadata": {},
   "source": [
    "`-` 코드(?)형태의 text를 예쁘게 보여주는 변환기 역할을 브라우저 (크롬, 사파리,...) 가 담당한다. "
   ]
  },
  {
   "cell_type": "markdown",
   "id": "fe218faa-1e6f-4d86-905c-4cf54fa6cf6a",
   "metadata": {},
   "source": [
    "## 개념: 블로그 생성 "
   ]
  },
  {
   "cell_type": "markdown",
   "id": "62fb5f5d-c78f-4996-b694-4f85321cf9f5",
   "metadata": {},
   "source": [
    "`-` 블로그의 생성은 아래의 3가지 요소가 결합되어야 한다. \n",
    "\n",
    "1. 컨텐츠 생성 \n",
    "2. 컨텐츠를 `html`화 (=컨텐츠를 보기좋게 만들어주고 link를 정의)\n",
    "3. 2의 결과가 local 이 아니라 remote 에 존재해야 함. "
   ]
  },
  {
   "cell_type": "markdown",
   "id": "a624c1b2-5873-4e84-8094-d15fd438ae39",
   "metadata": {},
   "source": [
    "`-` 이게 가능하면 사용자가 인터넷이 켜진상태에서 블로그를 보는 행위는 아래의 과정으로 이해할 수 있다. \n",
    "\n",
    "- 특정주소에 접속한다.\n",
    "- 그 주소에 대응하는 `?.html`파일이 remote의 하드에 존재할텐데 그것의 download를 요청한다.\n",
    "- 다운로드한다.\n",
    "- 내 컴퓨터 (local)의 어딘가에 존재하는 임시폴더에 `?.html`이 있을텐데 그것을 크롬으로 연다."
   ]
  },
  {
   "cell_type": "markdown",
   "id": "fecafeb9-cb1c-4013-81bd-c2928904d733",
   "metadata": {},
   "source": [
    "> 브라우징이 빠를려면 (1) remote의 처리속도 (2) remote의 인터넷속도 (3) local의 인터넷속도 (4) local의 렌더링속도 등이 모두 좋아야함. // 의외로 (4)는 local의 복합적인 능력을 요구한다. (4)의 과정이 원활하게 되려면 local의 cpu, gpu의 처리속도가 빨라야하며 local의 메모리도 충분해야한다. "
   ]
  },
  {
   "cell_type": "markdown",
   "id": "4675a772-7654-42ac-9cb7-ad5460a620bd",
   "metadata": {},
   "source": [
    "## 학과서버에서 `docs` 보기"
   ]
  },
  {
   "cell_type": "markdown",
   "id": "90866035-bd09-4bde-8e7d-beecc2e36b91",
   "metadata": {},
   "source": [
    "`-` `docs` 폴더를 `remote`에 upload"
   ]
  },
  {
   "cell_type": "markdown",
   "id": "f6fdef23-6edc-4b12-9811-11083fee2721",
   "metadata": {},
   "source": [
    "`-` `Live Preview` 확장프로그램 설치 "
   ]
  },
  {
   "cell_type": "markdown",
   "id": "6909eda0-1492-4b79-ab31-1505468fc864",
   "metadata": {},
   "source": [
    "`-` 탐색 "
   ]
  },
  {
   "cell_type": "markdown",
   "id": "4ca5cfae-a63e-477f-b3a8-d60347462cc6",
   "metadata": {},
   "source": [
    "`-` `docs` 삭제"
   ]
  },
  {
   "cell_type": "markdown",
   "id": "a44a6a0b-6288-4376-8375-8c66792ab6a0",
   "metadata": {},
   "source": [
    "## `quarto` 의 설치"
   ]
  },
  {
   "cell_type": "markdown",
   "id": "125c6057-3fd2-4197-8463-223bfb98160c",
   "metadata": {},
   "source": [
    "`-` `quarto` 를 설치\n",
    "\n",
    "- <https://quarto.org/docs/download/>"
   ]
  },
  {
   "cell_type": "markdown",
   "id": "e269b62b-5c2c-4d7b-9f75-e9a81715cd29",
   "metadata": {},
   "source": [
    "## `quarto` -- create"
   ]
  },
  {
   "attachments": {},
   "cell_type": "markdown",
   "id": "940d76d1-51ff-4578-b8c2-277b2b227980",
   "metadata": {},
   "source": [
    "`-` terminal에서 아래를 입력 \n",
    "\n",
    "```bash \n",
    "quarto create\n",
    "```"
   ]
  },
  {
   "cell_type": "markdown",
   "id": "4a6838d1-15c4-4e55-bbe0-04ed0711302a",
   "metadata": {},
   "source": [
    "`-` `project` 선택\n",
    "\n",
    "```bash\n",
    "@miruetoto ➜ /workspaces/blog-test (main) $ quarto create \n",
    "? Create\n",
    "❯ project\n",
    "  extension\n",
    "```"
   ]
  },
  {
   "cell_type": "markdown",
   "id": "fe08158f-2e00-4f2e-80c7-ce4c05ceb2b3",
   "metadata": {},
   "source": [
    "`-` `blog` 선택\n",
    "\n",
    "```bash\n",
    "@miruetoto ➜ /workspaces/blog-test (main) $ quarto create \n",
    "? Create › project\n",
    "? Type\n",
    "  default\n",
    "  website\n",
    "❯ blog\n",
    "  manuscript\n",
    "  book\n",
    "  confluence\n",
    "```"
   ]
  },
  {
   "cell_type": "markdown",
   "id": "4340c960-6551-4c1c-ada0-772d23ba9459",
   "metadata": {},
   "source": [
    "`-` `directory` 선택 -- 현재디렉토리 선택 \n",
    "\n",
    "```bash\n",
    "@miruetoto ➜ /workspaces/blog-test (main) $ quarto create \n",
    "? Create › project\n",
    "? Type › blog\n",
    "? Directory › .\n",
    "```"
   ]
  },
  {
   "cell_type": "markdown",
   "id": "aa2712bd-08ec-48d4-8e81-1034eb45a29e",
   "metadata": {},
   "source": [
    "`-` `Blog title` 설정 -- `tttt` 로 설정 "
   ]
  },
  {
   "cell_type": "markdown",
   "id": "d8c40635-db50-4053-b753-9f02eafe0d53",
   "metadata": {},
   "source": [
    "```bash\n",
    "@miruetoto ➜ /workspaces/blog-test (main) $ quarto create \n",
    "? Create › project\n",
    "? Type › blog\n",
    "? Directory › .\n",
    "? Title (blog) › tttt\n",
    "```"
   ]
  },
  {
   "cell_type": "markdown",
   "id": "07ea6321-c7ad-403b-86ff-7c0b3b5fe514",
   "metadata": {},
   "source": [
    "## `_quarto.yml` 수정"
   ]
  },
  {
   "cell_type": "markdown",
   "id": "990615bd-d95c-4f57-a38a-87f854f1f0c4",
   "metadata": {},
   "source": [
    "`-` `_quarto.yml` 열기 -- 메모장 "
   ]
  },
  {
   "cell_type": "markdown",
   "id": "3beac572-649c-4457-9c54-005777f55a5f",
   "metadata": {},
   "source": [
    "```{.yaml filename=\"_quarto.yml\"}\n",
    "project:\n",
    "  type: website\n",
    "\n",
    "website:\n",
    "  title: \"tttt\"\n",
    "  navbar:\n",
    "    right:\n",
    "      - about.qmd\n",
    "      - icon: github\n",
    "        href: https://github.com/\n",
    "      - icon: twitter\n",
    "        href: https://twitter.com\n",
    "format:\n",
    "  html:\n",
    "    theme: cosmo\n",
    "    css: styles.css\n",
    "```"
   ]
  },
  {
   "cell_type": "markdown",
   "id": "f817fdf4-d486-4f44-ba38-f107e7b20a4f",
   "metadata": {},
   "source": [
    "`-` `_quarto.yml` -- 수정하기 // `output-dir: docs`를 추가하기"
   ]
  },
  {
   "cell_type": "markdown",
   "id": "390c4726-9a7e-4cb1-aede-531de90941cb",
   "metadata": {},
   "source": [
    "```{.yaml filename=\"_quarto.yml\"}\n",
    "project:\n",
    "  type: website\n",
    "  output-dir: docs\n",
    "\n",
    "website:\n",
    "  title: \"tttt\"\n",
    "  navbar:\n",
    "    right:\n",
    "      - about.qmd\n",
    "      - icon: github\n",
    "        href: https://github.com/\n",
    "      - icon: twitter\n",
    "        href: https://twitter.com\n",
    "format:\n",
    "  html:\n",
    "    theme: cosmo\n",
    "    css: styles.css\n",
    "```"
   ]
  },
  {
   "cell_type": "markdown",
   "id": "33aa1b70-df6f-4c15-a821-4a304967e687",
   "metadata": {},
   "source": [
    "## `quarto render`"
   ]
  },
  {
   "cell_type": "markdown",
   "id": "ad457279-f11b-4043-9609-6cc3fd5915b9",
   "metadata": {},
   "source": [
    "`-` 아래를 실행 "
   ]
  },
  {
   "cell_type": "markdown",
   "id": "edcad63e-f991-48da-9372-a336e10da9ca",
   "metadata": {},
   "source": [
    "```bash\n",
    "quarto render \n",
    "```"
   ]
  },
  {
   "cell_type": "markdown",
   "id": "608ef73e-5788-4821-8fd3-6c60375c45b2",
   "metadata": {},
   "source": [
    "- 실행하면 docs 폴더가 생성됨!"
   ]
  },
  {
   "cell_type": "markdown",
   "id": "aec56e17-00cb-4e89-9f7b-0c48065d5380",
   "metadata": {},
   "source": [
    "## `posts` 비우기"
   ]
  },
  {
   "cell_type": "markdown",
   "id": "eb9f70ed-22d8-4d4d-b965-143c0fcb23a5",
   "metadata": {},
   "source": [
    "`-` 아래의 폴더를 삭제 \n",
    "\n",
    "- post-with-code\n",
    "- welcome"
   ]
  },
  {
   "cell_type": "markdown",
   "id": "8699c72c-102a-4f8a-b602-ea1f670be199",
   "metadata": {},
   "source": [
    "`-` 아래를 실행후 결과 관찰"
   ]
  },
  {
   "cell_type": "markdown",
   "id": "eec814b7-1492-4a57-8536-7e7087828beb",
   "metadata": {},
   "source": [
    "```bash\n",
    "quarto render \n",
    "```"
   ]
  },
  {
   "cell_type": "markdown",
   "id": "722b92ce-886d-45fa-b640-9cd727a79dfd",
   "metadata": {},
   "source": [
    "## `test.qmd` 생성"
   ]
  },
  {
   "cell_type": "markdown",
   "id": "f5b2bbdb-d40e-469f-9c21-f5e2ef3a0625",
   "metadata": {},
   "source": [
    "`-` `posts`에 `test.qmd` 생성하고 아래를 만든다. \n",
    "\n",
    "```\n",
    "---\n",
    "title: \"test\"\n",
    "author: \"최규빈\"\n",
    "date: \"01/02/2025\"\n",
    "---\n",
    "\n",
    "첫 포스트!\n",
    "```\n",
    "\n"
   ]
  },
  {
   "cell_type": "markdown",
   "id": "82a0128e-17d0-43a6-a6a9-d81034baf9bb",
   "metadata": {},
   "source": [
    "`-` 아래를 실행후 결과 관찰"
   ]
  },
  {
   "cell_type": "markdown",
   "id": "54f8e887-4fa0-4fc1-a6a2-0d35d4e95465",
   "metadata": {},
   "source": [
    "```bash\n",
    "quarto render \n",
    "```"
   ]
  },
  {
   "cell_type": "markdown",
   "id": "69081e6c-f816-40e6-90c3-bf69586e7327",
   "metadata": {},
   "source": [
    "## preview"
   ]
  },
  {
   "cell_type": "markdown",
   "id": "2c380676-973c-42d9-b4fd-2ecc640dc902",
   "metadata": {},
   "source": [
    "`-` 아래를 실행후 결과 관찰"
   ]
  },
  {
   "cell_type": "markdown",
   "id": "790f0a9c-78f5-4a95-baaf-e99e6c4b175f",
   "metadata": {},
   "source": [
    "```bash\n",
    "quarto preview \n",
    "```"
   ]
  },
  {
   "cell_type": "markdown",
   "id": "8bb980da-b1e6-45bd-8140-9de603c63934",
   "metadata": {},
   "source": [
    "`-` `test.qmd` 수정해보기~"
   ]
  },
  {
   "cell_type": "markdown",
   "id": "88248489-81e6-47bb-96cc-de6af0cb21df",
   "metadata": {},
   "source": [
    "## `index.qmd` 수정"
   ]
  },
  {
   "cell_type": "markdown",
   "id": "1b8c3f03-96ca-4dd8-8feb-fe2a51c9948f",
   "metadata": {},
   "source": [
    "`-` 홈페이지 접속시 보이는 화면 "
   ]
  },
  {
   "cell_type": "markdown",
   "id": "42863fb8-b85c-43c6-8ea1-491380a0edb4",
   "metadata": {},
   "source": [
    "`-` 인사해보기"
   ]
  },
  {
   "cell_type": "markdown",
   "id": "91478413-0f4c-491c-bfa8-f29396a0dce5",
   "metadata": {},
   "source": [
    "## `_quarto.yml` 수정2"
   ]
  },
  {
   "cell_type": "markdown",
   "id": "5dce4ce3-01ac-49d8-9a31-20d021156de5",
   "metadata": {},
   "source": [
    "`-` 타이틀 수정하기"
   ]
  },
  {
   "cell_type": "markdown",
   "id": "d2b7ce04-1ee2-4a6b-8c87-66ce83306121",
   "metadata": {},
   "source": [
    "`-` 테마를 `minty`로 수정 "
   ]
  },
  {
   "cell_type": "markdown",
   "id": "1d52db00-9f31-4099-b7af-29cd79ec7983",
   "metadata": {},
   "source": [
    "## github으로 `push`"
   ]
  },
  {
   "cell_type": "markdown",
   "id": "f3f461b2-c720-4f5b-bbff-cecfec28ba54",
   "metadata": {},
   "source": [
    "`-` preview 중단"
   ]
  },
  {
   "attachments": {},
   "cell_type": "markdown",
   "id": "b8776fff-4f71-4196-8a25-f92533757686",
   "metadata": {},
   "source": [
    "`-` 아래를 실행 \n",
    "\n",
    "```bash\n",
    "quarto render \n",
    "git add .\n",
    "git commit -m test.qmd\n",
    "git push \n",
    "```"
   ]
  },
  {
   "cell_type": "markdown",
   "id": "2492d909-b8fc-4d36-af49-0d64996e2083",
   "metadata": {},
   "source": [
    "## `github` 에서 설정 "
   ]
  },
  {
   "cell_type": "markdown",
   "id": "57c1a25d-c832-44af-a63f-01a96af46a11",
   "metadata": {},
   "source": [
    "`-` github 에 로그인하여 setting $\\to$ pages 에 이동, 그리고 Build and deployment 에서 `/docs`를 설정!"
   ]
  },
  {
   "cell_type": "markdown",
   "id": "2c8f9a77-6ced-4ca2-8b60-cad2385bf591",
   "metadata": {},
   "source": [
    "## `pororo.qmd`"
   ]
  },
  {
   "cell_type": "markdown",
   "id": "0c30a421-acb4-4ee8-b539-1568e6474469",
   "metadata": {},
   "source": [
    "`-` `pororo.qmd` 를 만들고 두번째 포스트를 만들자."
   ]
  },
  {
   "cell_type": "markdown",
   "id": "52592be3-80d3-46df-82c8-3835ba586c7e",
   "metadata": {},
   "source": [
    "```{.md filename=\"pororo.qmd\"}\n",
    "---\n",
    "title: \"뽀롱뽀롱\"\n",
    "author: \"최다호\"\n",
    "date: \"01/02/2025\"\n",
    "---\n",
    "\n",
    "ref: <https://home.ebs.co.kr/pororo/etc/1/cast>\n",
    "\n",
    "## 뽀로로사진\n",
    "\n",
    "![](https://static.ebs.co.kr/images/public/lectures/2014/06/19/10/bhpImg/44deb98d-1c50-4073-9bd7-2c2c28d65f9e.jpg)\n",
    "\n",
    "## 패티사진\n",
    "\n",
    "![](https://static.ebs.co.kr/images/ebs/WAS-HOME/portal/upload/img/programinfo/person/per/1242723588618_dphGgSgOAp.jpg)\n",
    "\n",
    "## 표만들기\n",
    "\n",
    "| 캐릭터 | 설명 |\n",
    "|-------|------|\n",
    "| **PORORO (뽀로로)** | 호기심이 많은 꼬마 펭귄. 신기한 물건을 발견하면 왕성한 호기심이 발동하고, 하고 싶은 것은 꼭 하고야 만다. 하늘을 날 수 있을 거라는 의지를 실천에 옮기려는 좌충우돌형에 장난기가 넘치는 사고뭉칠 꼬마이지만 숲속 마을에는 없어선 안되는 분위기 메이커입니다. |\n",
    "| **PETTY (패티)** | 뽀롱뽀롱 숲 속 마을에 새로 이사 온 활달하고 사고성이 좋은 소녀 펭귄. 예쁘고 깜찍한 성격으로 친구들의 관심을 받는 새로운 친구로 등장합니다. 귀엽고 예쁜 외모와는 달리 털털한 성격에, 축구, 달리기, 수영, 무술 운동에도 뛰어나 친구들의 부러움을 사지만 요리만은 서툽니다. |\n",
    "\n",
    "## 준비됐나요?\n",
    "\n",
    ":::{.callout-important}\n",
    "\n",
    "### 옜날\n",
    "준비됐나요? -> 준비됐어요~\n",
    ":::\n",
    "\n",
    ":::{.callout-important}\n",
    "\n",
    "### 요즘\n",
    "준비됐나요? -> 네네, 선생님!\n",
    ":::\n",
    "```"
   ]
  },
  {
   "cell_type": "markdown",
   "id": "c9bc19e9-a3fe-4e99-b47c-24897bda8df3",
   "metadata": {},
   "source": [
    "`-` upload"
   ]
  },
  {
   "cell_type": "markdown",
   "id": "847ec957-dcb5-4ea7-bca5-689734feb874",
   "metadata": {},
   "source": [
    "## `code.ipynb`"
   ]
  },
  {
   "cell_type": "markdown",
   "id": "0981ce16-46d8-4bda-bd06-48b83a5822b9",
   "metadata": {},
   "source": [
    "`-` `code.ipynb`를 만들고 아래를 해보자. "
   ]
  },
  {
   "cell_type": "markdown",
   "id": "5d1db054-b454-4d26-ab3f-d7de8970cfe2",
   "metadata": {},
   "source": [
    "```{md}\n",
    "---\n",
    "title: \"code\"\n",
    "author: \"장하니\"\n",
    "date: \"01/02/2025\"\n",
    "---\n",
    "```"
   ]
  },
  {
   "cell_type": "markdown",
   "id": "20dfbd96-341a-4a55-95b1-4a0dcb6c3a8a",
   "metadata": {},
   "source": [
    "```Python\n",
    "import numpy as np\n",
    "import matplotlib.pyplot as plt \n",
    "x = np.random.randn(100)\n",
    "plt.plot(x)\n",
    "```"
   ]
  },
  {
   "cell_type": "markdown",
   "id": "ab54fcd5-4427-4abd-8e1c-ecbaf7520188",
   "metadata": {},
   "source": [
    "`-` upload"
   ]
  },
  {
   "cell_type": "markdown",
   "id": "fe8bfc3e-180b-481d-be83-830b06f451f7",
   "metadata": {},
   "source": [
    "## `france.ipynb`"
   ]
  },
  {
   "cell_type": "markdown",
   "id": "be6064df-1c51-4b9a-a1a5-3e01406ee310",
   "metadata": {},
   "source": [
    "`-` `france.ipynb` 파일을 만들자."
   ]
  },
  {
   "cell_type": "markdown",
   "id": "b183af01-183a-4fae-8037-e85dd2e84ce6",
   "metadata": {},
   "source": [
    "```{md}\n",
    "---\n",
    "title: \"프랑스혁명\"\n",
    "author: \"최규빈\"\n",
    "date: \"01/02/2025\"\n",
    "---\n",
    "```"
   ]
  },
  {
   "cell_type": "markdown",
   "id": "af280f6a-5495-4cc5-b90d-3f4ca0e082d5",
   "metadata": {},
   "source": [
    "`-` 아래의 내용을 공부하자. "
   ]
  },
  {
   "cell_type": "markdown",
   "id": "baf27c44-1833-42e6-a4b8-88143b35f459",
   "metadata": {},
   "source": [
    "- <https://ko.wikipedia.org/wiki/프랑스_혁명>"
   ]
  },
  {
   "cell_type": "markdown",
   "id": "a9c0418f-68b9-48b1-9b07-50d0e31bdac3",
   "metadata": {},
   "source": [
    "## `quarto.ipynb`"
   ]
  },
  {
   "cell_type": "markdown",
   "id": "393779b4-7f87-407b-ade7-624d9973e0e6",
   "metadata": {},
   "source": [
    "`-` 아래의 환경을 만들자. \n",
    "\n",
    "```bash\n",
    "conda install -c plotly plotly=5.24.1\n",
    "conda install -c conda-forge notebook \n",
    "pip install matplotlib\n",
    "pip install pandas\n",
    "```"
   ]
  },
  {
   "cell_type": "markdown",
   "id": "ca82b66a-2e7f-46c6-a7f6-f0a12f31d6a9",
   "metadata": {},
   "source": [
    "`-` `quarto.ipynb` 파일 download"
   ]
  },
  {
   "cell_type": "markdown",
   "id": "078668fe-8d6e-4916-907b-f2b95e6239ef",
   "metadata": {},
   "source": [
    "```{md}\n",
    "---\n",
    "title: \"quarto\"\n",
    "author: \"최규빈\"\n",
    "date: \"01/02/2025\"\n",
    "---\n",
    "```"
   ]
  },
  {
   "cell_type": "markdown",
   "id": "4e2839f2-25de-4150-8248-f522f35583cf",
   "metadata": {},
   "source": [
    "## `quarto`, `github` 의 역할 "
   ]
  },
  {
   "cell_type": "markdown",
   "id": "23d21d21-6a99-4c47-b178-13b848ca962e",
   "metadata": {},
   "source": [
    "`-` 실질적으로 우리가 `quarto` + `github` 을 이용하여 publish 하는 과정은 아래와 같다. "
   ]
  },
  {
   "cell_type": "markdown",
   "id": "c001f628-f2fd-45ac-8568-adabec5dbff1",
   "metadata": {},
   "source": [
    "1. `local`에서 `.qmd`, `.ipynb` 파일들을 생성하여 작업한다. \n",
    "2. `quarto render`를 입력하여 `.ipynb` 파일들을 `.html` 파일로 바꾸고 \"연결성\"을 정의한다. 이러한 연결성은 `local`에서 완벽하게 동작한다. \n",
    "3. `연결성`+`link`가 종합적으로 저장된 폴더 (우리의 경우는 `docs`) 를 github 에 업로드한다.\n",
    "4. github은 `docs`폴더를 바탕으로 웹사이트를 구축한다."
   ]
  },
  {
   "cell_type": "markdown",
   "id": "917374ee-8e13-47a2-8333-7b8489efdeec",
   "metadata": {},
   "source": [
    "`-` 블로그의 생성은 아래의 3가지 요소가 결합되어야 한다고 했었다. \n",
    "\n",
    "1. 컨텐츠 생성 \n",
    "2. 컨텐츠를 `html`화 (=컨텐츠를 보기좋게 만들어주고 link를 정의)\n",
    "3. 2의 결과가 local 이 아니라 remote 에 존재해야 함.\n",
    "\n",
    "이중에서 1은 사용자가 하고, 2는 quarto가 하고, 3은 github이 한다."
   ]
  },
  {
   "cell_type": "markdown",
   "id": "af9898c7-a7e7-46dc-943d-748eea2e1903",
   "metadata": {},
   "source": [
    "## `100MB` 충돌 "
   ]
  },
  {
   "cell_type": "markdown",
   "id": "237a7605-5e0c-4d23-b90b-ddffa4512922",
   "metadata": {},
   "source": [
    "`-` `fashion-mnist.ipynb` 에 아래의 코드를 작성 "
   ]
  },
  {
   "cell_type": "markdown",
   "id": "61c7d56b-c1a7-40ad-a094-55c528fcc89c",
   "metadata": {},
   "source": [
    "```{md}\n",
    "---\n",
    "title: \"fashion-mnist\"\n",
    "author: \"장하니\"\n",
    "date: \"01/02/2025\"\n",
    "---\n",
    "```"
   ]
  },
  {
   "cell_type": "markdown",
   "id": "79c16ae8-44d9-43fe-8d45-e9b3c9e88117",
   "metadata": {},
   "source": [
    "```Python\n",
    "import pandas as pd\n",
    "!wget https://media.githubusercontent.com/media/guebin/PP2023/main/posts/fashion-mnist_train.csv\n",
    "df = pd.read_csv(\"fashion-mnist_train.csv\")\n",
    "plt.imshow(df.iloc[1,1:].to_numpy().reshape(28,28),cmap=\"gray\")\n",
    "```"
   ]
  },
  {
   "cell_type": "markdown",
   "id": "5056d42e-c771-44e8-9c21-b5cfe928b59f",
   "metadata": {},
   "source": [
    "`-` upload -- 아래의 메시지 확인 "
   ]
  },
  {
   "cell_type": "markdown",
   "id": "df636af4-06e3-4a35-90f4-87aec04fe660",
   "metadata": {},
   "source": [
    "```bash\n",
    "@miruetoto ➜ /workspaces/blog-test (main) $ git push \n",
    "Enumerating objects: 13, done.\n",
    "Counting objects: 100% (13/13), done.\n",
    "Delta compression using up to 2 threads\n",
    "Compressing objects: 100% (8/8), done.\n",
    "Writing objects: 100% (10/10), 32.41 MiB | 2.45 MiB/s, done.\n",
    "Total 10 (delta 3), reused 0 (delta 0), pack-reused 0 (from 0)\n",
    "remote: Resolving deltas: 100% (3/3), completed with 3 local objects.\n",
    "remote: error: Trace: 6994b81c2ea821341c951bbca38f8f734c40af004fbc73f4d154cd73eb69eb32\n",
    "remote: error: See https://gh.io/lfs for more information.\n",
    "remote: error: File fashion-mnist_train.csv is 126.88 MB; this exceeds GitHub's file size limit of 100.00 MB\n",
    "remote: error: GH001: Large files detected. You may want to try Git Large File Storage - https://git-lfs.github.com.\n",
    "To https://github.com/miruetoto/blog-test\n",
    " ! [remote rejected] main -> main (pre-receive hook declined)\n",
    "error: failed to push some refs to 'https://github.com/miruetoto/blog-test'\n",
    "```"
   ]
  },
  {
   "cell_type": "markdown",
   "id": "e8c94302-bae2-4930-bf1f-cf45881f5867",
   "metadata": {},
   "source": [
    "`-` `fashion-mnist_train.csv` 를 삭제해도 안된다.. "
   ]
  },
  {
   "cell_type": "markdown",
   "id": "1d7f3f8a-59e1-49f6-827c-1fb22f5d044d",
   "metadata": {},
   "source": [
    "```bash\n",
    "@miruetoto ➜ /workspaces/blog-test (main) $ git add .\n",
    "@miruetoto ➜ /workspaces/blog-test (main) $ git commit -m \"fashion-mnist.csv 삭제\"\n",
    "[main f17cb1f] fashion-mnist.csv 삭제\n",
    " 1 file changed, 60001 deletions(-)\n",
    " delete mode 100644 fashion-mnist_train.csv\n",
    "@miruetoto ➜ /workspaces/blog-test (main) $ git push\n",
    "Enumerating objects: 15, done.\n",
    "Counting objects: 100% (15/15), done.\n",
    "Delta compression using up to 2 threads\n",
    "Compressing objects: 100% (10/10), done.\n",
    "Writing objects: 100% (12/12), 32.41 MiB | 2.33 MiB/s, done.\n",
    "Total 12 (delta 4), reused 0 (delta 0), pack-reused 0 (from 0)\n",
    "remote: Resolving deltas: 100% (4/4), completed with 3 local objects.\n",
    "remote: error: Trace: a2a9e6b3dfd49b2aa8afeb13aae04ba1684311239c0abc06f49f4236f30f5a62\n",
    "remote: error: See https://gh.io/lfs for more information.\n",
    "remote: error: File fashion-mnist_train.csv is 126.88 MB; this exceeds GitHub's file size limit of 100.00 MB\n",
    "remote: error: GH001: Large files detected. You may want to try Git Large File Storage - https://git-lfs.github.com.\n",
    "To https://github.com/miruetoto/blog-test\n",
    " ! [remote rejected] main -> main (pre-receive hook declined)\n",
    "error: failed to push some refs to 'https://github.com/miruetoto/blog-test'\n",
    "```"
   ]
  },
  {
   "cell_type": "markdown",
   "id": "9178e82a-4660-452e-b1f6-3eaad4ef1d5c",
   "metadata": {},
   "source": [
    "## 해결 -- 삭제/clone"
   ]
  },
  {
   "cell_type": "markdown",
   "id": "6c848a5b-18fb-46ba-bbf2-265c2b3c481d",
   "metadata": {},
   "source": [
    "## template"
   ]
  },
  {
   "cell_type": "markdown",
   "id": "c955b43d-fa86-49f5-bde0-564e430b89f7",
   "metadata": {},
   "source": [
    "|type|repo|website|\n",
    "|:--:|:--:|:--:|\n",
    "|블로그| <https://github.com/guebin/DSTBX2025> | <https://guebin.github.io/DSTBX2025/>| \n",
    "|슬라이드| <https://github.com/guebin/qslides-template> | <https://guebin.github.io/qslides-template>| \n",
    "|대시보드 | <https://github.com/guebin/qdash-template>| <https://guebin.github.io/qdash-template/>|\n",
    "|대시보드 | <https://github.com/guebin/DV2023-DASH>| <https://guebin.github.io/DV2023-DASH>|"
   ]
  }
 ],
 "metadata": {
  "kernelspec": {
   "display_name": "Julia 1.9.2",
   "language": "julia",
   "name": "julia-1.9"
  },
  "language_info": {
   "file_extension": ".jl",
   "mimetype": "application/julia",
   "name": "julia",
   "version": "1.9.2"
  }
 },
 "nbformat": 4,
 "nbformat_minor": 5
}
