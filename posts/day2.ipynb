{
 "cells": [
  {
   "cell_type": "raw",
   "id": "7e3ed8a5-e847-493a-a335-733f68072cbf",
   "metadata": {},
   "source": [
    "---\n",
    "title: \"Day2: 파이썬 버전확인하기 - jupyterlab-desktop\"\n",
    "author: \"최규빈\"\n",
    "date: \"12/27/2024\"\n",
    "---"
   ]
  },
  {
   "cell_type": "markdown",
   "id": "52d68fdb",
   "metadata": {
    "vscode": {
     "languageId": "raw"
    }
   },
   "source": [
    "> 강의영상 요청하기\n",
    ">\n",
    "> - <https://drive.google.com/drive/folders/1Nde8iX3TEEKb1RxlULlTWuwhRYUlDKnK?usp=sharing>"
   ]
  },
  {
   "cell_type": "markdown",
   "id": "ad1567b4-db7f-49ad-a629-43a46908db7d",
   "metadata": {},
   "source": [
    "## 파이썬 버전확인하기"
   ]
  },
  {
   "cell_type": "markdown",
   "id": "07810ec1-b791-4269-bac1-c1aab3451bc2",
   "metadata": {},
   "source": [
    "`-` 기본명령 \n",
    "\n",
    "```bash\n",
    "python --version \n",
    "```"
   ]
  },
  {
   "cell_type": "markdown",
   "id": "f7376a05-7107-4966-b760-694d46a7e5ea",
   "metadata": {},
   "source": [
    "`-` 두 환경 `(base)`, `(first)`에서 파이썬 버전을 확인하자. "
   ]
  },
  {
   "cell_type": "markdown",
   "id": "23c9abac-e079-43d2-957a-b53a38353023",
   "metadata": {},
   "source": [
    "`-` 코랩의 파이썬 버전을 확인해보자. "
   ]
  },
  {
   "cell_type": "markdown",
   "id": "1403302d-5c62-4894-8948-4f86f2c136fc",
   "metadata": {},
   "source": [
    "## `(base)` 판다스 버전확인"
   ]
  },
  {
   "cell_type": "markdown",
   "id": "d77e3c66-fa65-4628-a383-fb24bb309b63",
   "metadata": {
    "tags": []
   },
   "source": [
    "`-` 우리의 무기1: `pip list`\n",
    "\n",
    "```bash \n",
    "pip list\n",
    "```"
   ]
  },
  {
   "cell_type": "markdown",
   "id": "2587962b-6f8c-4388-b46e-6add3a5f0990",
   "metadata": {},
   "source": [
    "> 너무많죠? `pip list | grep pandas` 어때요? "
   ]
  },
  {
   "cell_type": "markdown",
   "id": "3dbb4f15-49c7-41b2-99a3-85fe4f3722b1",
   "metadata": {
    "tags": []
   },
   "source": [
    "`-` 우리의 무기2: `conda list` "
   ]
  },
  {
   "cell_type": "markdown",
   "id": "b54a03a0-9b75-43aa-96d3-aa03819d40a0",
   "metadata": {},
   "source": [
    "```bash\n",
    "conda list \n",
    "```"
   ]
  },
  {
   "cell_type": "markdown",
   "id": "f4c82ca5-35d0-4ca8-980f-f8d8cfe933b7",
   "metadata": {},
   "source": [
    "`-` 우릭의 무기3: 파이썬에서 \n",
    "\n",
    "```python\n",
    "import pandas as pd\n",
    "pd.__version__\n",
    "```"
   ]
  },
  {
   "cell_type": "markdown",
   "id": "1dab320d-8d1f-440b-85e2-1f455120f989",
   "metadata": {},
   "source": [
    "## `(first)` -- pandas X"
   ]
  },
  {
   "cell_type": "markdown",
   "id": "086b32b5-b7bf-4997-b1ca-daf98b8c8b2a",
   "metadata": {},
   "source": [
    "`-` `first`에 판다스가 설치되었는지 살펴보자."
   ]
  },
  {
   "cell_type": "markdown",
   "id": "d701cd76-00b3-4cc9-8366-2754da723686",
   "metadata": {
    "tags": []
   },
   "source": [
    "`-` 우리의 무기1: `pip list`\n",
    "\n",
    "```bash \n",
    "pip list\n",
    "```"
   ]
  },
  {
   "cell_type": "markdown",
   "id": "dc691a5f-2bde-44a1-b2ba-d6451c1ec73c",
   "metadata": {
    "tags": []
   },
   "source": [
    "`-` 우리의 무기2: `conda list` "
   ]
  },
  {
   "cell_type": "markdown",
   "id": "92c42b6e-6006-4a49-a4a3-12b70055521e",
   "metadata": {},
   "source": [
    "```bash\n",
    "conda list \n",
    "```"
   ]
  },
  {
   "cell_type": "markdown",
   "id": "ef11fa8e-d466-41cc-bcce-454158c997aa",
   "metadata": {},
   "source": [
    "`-` 우릭의 무기3: 파이썬에서.. \n",
    "\n",
    "```python\n",
    "import pandas as pd # 에러나겠죠?\n",
    "```"
   ]
  },
  {
   "cell_type": "markdown",
   "id": "720f6d5e-64ea-4829-9099-fb0d266c9969",
   "metadata": {},
   "source": [
    "`-` 두 환경은 그냥 다른 컴퓨터라고 믿으세요 (못 믿겠다면?)"
   ]
  },
  {
   "cell_type": "markdown",
   "id": "765e4c17-ca2c-4194-91ab-ebe5ca224437",
   "metadata": {},
   "source": [
    ":::{.callout-important}\n",
    "두 개의 환경을 바꿔가면서 컨트롤 할 수 있어야 합니다~\n",
    ":::"
   ]
  },
  {
   "cell_type": "markdown",
   "id": "bc17974f-c6d4-4dbe-bb35-3a51ebab722e",
   "metadata": {},
   "source": [
    "## `py310_pip_pd` -- 생성 "
   ]
  },
  {
   "cell_type": "markdown",
   "id": "dcf03c14-1e74-4780-a860-c25228f82f62",
   "metadata": {},
   "source": [
    "`-` 새로운 환경 `py310_pip_pd`를 생성하자. "
   ]
  },
  {
   "cell_type": "markdown",
   "id": "4613f48f-306f-4f5b-bb54-bb868d508e58",
   "metadata": {},
   "source": [
    "```bash\n",
    "(base) guebin@cgb3-desktop:~$ conda create -n py310_pip_pd python=3.10\n",
    "(base) guebin@cgb3-desktop:~$ conda activate py310_pip_pd\n",
    "(py310_pip_pd) guebin@cgb3-desktop:~$ python --version\n",
    "```"
   ]
  },
  {
   "cell_type": "markdown",
   "id": "da36815f-7235-4b58-bcf1-a580a550982a",
   "metadata": {},
   "source": [
    "##  `py310_pip_pd`-- `pandas` 설치"
   ]
  },
  {
   "cell_type": "markdown",
   "id": "b8ca543c-f695-45ba-abb8-afd11def206d",
   "metadata": {},
   "source": [
    "`-` 새로운 환경 `py310_pip_pd` 에 판다스를 설치하자. \n",
    "\n",
    "- 이상한곳에 깔지 마시고요.. `py310_pip_pd` 컴퓨터에 까세요"
   ]
  },
  {
   "cell_type": "markdown",
   "id": "a4ada73e-1d33-4c0a-b97c-588360f3a9ae",
   "metadata": {},
   "source": [
    "`-` 버전을 확인 "
   ]
  },
  {
   "cell_type": "markdown",
   "id": "17fb175f-16e0-4d0a-b7bf-b46a2ea66255",
   "metadata": {},
   "source": [
    "##  `py310_pip_pd15`"
   ]
  },
  {
   "cell_type": "markdown",
   "id": "31ae43e3-1cbb-4e5d-9419-32fa25d859c4",
   "metadata": {},
   "source": [
    "`-` 새로운 환경 `py310_pip_pd15` 을 생성하고 거기에서 판다스를 설치하자. 그런데, 버전은 `1.5` 로 고정하여서.."
   ]
  },
  {
   "cell_type": "markdown",
   "id": "77dce697-bc98-43d4-8a3f-dca8e01b6f05",
   "metadata": {},
   "source": [
    "```bash\n",
    "(base) guebin@cgb3-desktop:~$ conda create -n py310_pip_pd15 python=3.10\n",
    "(base) guebin@cgb3-desktop:~$ conda activate py310_pip_pd15\n",
    "(py310_pip_pd15) guebin@cgb3-desktop:~$ pip install pandas==1.5\n",
    "```"
   ]
  },
  {
   "cell_type": "markdown",
   "id": "7a44b7cb-975d-4dc9-8786-e850b6717558",
   "metadata": {},
   "source": [
    "`-` 파이썬과 판다스 버전을 확인 "
   ]
  },
  {
   "cell_type": "markdown",
   "id": "c6470b6b-c109-4adb-8746-dc9c3ed219c0",
   "metadata": {},
   "source": [
    "`-` 판다스 import 가능? (ㄴㄴ..)"
   ]
  },
  {
   "cell_type": "markdown",
   "id": "18c374aa",
   "metadata": {},
   "source": [
    ":::{.callout-important}\n",
    "설치가 실패되는 경험을 해보기\n",
    ":::"
   ]
  },
  {
   "cell_type": "markdown",
   "id": "379396d8-d2ea-4ad6-b568-220431564f24",
   "metadata": {},
   "source": [
    "##  `py310_conda_pd15`"
   ]
  },
  {
   "cell_type": "markdown",
   "id": "946f75f7-7735-4092-a064-b7455b570724",
   "metadata": {},
   "source": [
    "`-` 새로운 환경 `py310_conda_pd15` 을 생성하고 거기에서 판다스를 설치하자. 그런데, 버전은 `1.5` 로 고정하여서.."
   ]
  },
  {
   "cell_type": "markdown",
   "id": "108aec4d-b3bd-4f81-989b-5eb91a239213",
   "metadata": {},
   "source": [
    "```bash\n",
    "(base) guebin@cgb3-desktop:~$ conda create -n py310_conda_pd15 python=3.10\n",
    "(base) guebin@cgb3-desktop:~$ conda activate py310_conda_pd15\n",
    "(py310_conda_pd15) guebin@cgb3-desktop:~$ conda install -c conda-forge pandas==1.5\n",
    "```"
   ]
  },
  {
   "cell_type": "markdown",
   "id": "955c4e54-c8c5-4d27-9d68-b2238abe4be3",
   "metadata": {},
   "source": [
    "`-` 파이썬과 판다스 버전을 확인 "
   ]
  },
  {
   "cell_type": "markdown",
   "id": "430f8090-ae97-46ff-bb47-5728e875bc8e",
   "metadata": {},
   "source": [
    "`-` 판다스 import 가능? (ㅇㅇ..)"
   ]
  },
  {
   "cell_type": "markdown",
   "id": "7528b444-d864-43a6-97e1-aa8739264af3",
   "metadata": {},
   "source": [
    ":::{.callout-important}\n",
    "\n",
    "`conda install` vs `pip install` 의 차이점을 느끼셔야 합니다!!\n",
    "\n",
    "- 관찰결과1: conda install 이 좀 더 느리다. (답답할때가 있음)\n",
    "- 관찰결과2: conda install 이 좀 더 충돌을 관리하면서 설치한다.\n",
    ":::"
   ]
  },
  {
   "cell_type": "markdown",
   "id": "bc9126ee-dcd7-449d-8045-5e5edc4defe5",
   "metadata": {},
   "source": [
    "## `conda env list`"
   ]
  },
  {
   "cell_type": "markdown",
   "id": "9bc925f7-ca33-4b6b-8cb9-c1d1258f1902",
   "metadata": {},
   "source": [
    "`-` 지금까지 만든 환경을 보고 싶다면? "
   ]
  },
  {
   "cell_type": "markdown",
   "id": "1b6e0a86-f87f-4f52-b76e-6f8005449a84",
   "metadata": {},
   "source": [
    "```bash\n",
    "conda env list \n",
    "```"
   ]
  },
  {
   "cell_type": "markdown",
   "id": "47ec7e7e-7924-44b9-a380-12dbd1790462",
   "metadata": {},
   "source": [
    "## 동일한 코드, 다른결과 (1)"
   ]
  },
  {
   "cell_type": "markdown",
   "id": "78a29f38-a102-4ce1-a4b7-f1ebdd87ebd5",
   "metadata": {},
   "source": [
    "`-` 현재 아래의 `env` 중에서 \n",
    "\n",
    "- `py310_pip_pd`\n",
    "- `py310_pip_pd15`\n",
    "- `py310_conda_pd15`\n",
    "\n",
    "판다스를 쓸수있는 환경은 아래와 같다. \n",
    "\n",
    "- `py310_pip_pd`\n",
    "- `py310_conda_pd15`\n"
   ]
  },
  {
   "cell_type": "markdown",
   "id": "e7939ad8-c109-4458-9b31-5fd1e1c23449",
   "metadata": {},
   "source": [
    "`-` 각각의 환경에서 아래의 코드를 실행한다. \n",
    "\n",
    "```python\n",
    "df = pd.DataFrame({'A':[2143,2143],'B':['-',3456]})\n",
    "df.map(lambda x: 0 if x == '-' else x)\n",
    "```"
   ]
  },
  {
   "cell_type": "markdown",
   "id": "4565b819-25b6-4dee-87c7-d0816aaa08c8",
   "metadata": {},
   "source": [
    "`-` 어? (기억하고 싶지 않은 흑역사: <https://guebin.github.io/DV2023/posts/13wk-2.html>)"
   ]
  },
  {
   "attachments": {},
   "cell_type": "markdown",
   "id": "9396f199-9e24-41dd-857f-45f3dc37b50a",
   "metadata": {},
   "source": [
    "`-` 어쩔까요?\n",
    "\n",
    "```bash\n",
    "pip install pandas -U # 이거 맞어?\n",
    "```"
   ]
  },
  {
   "cell_type": "markdown",
   "id": "80d1fc36-c34c-47d2-ad6b-9dc9c4a7f1d8",
   "metadata": {},
   "source": [
    "`-` 판다스버전만 올린거지.. 다른버전은 그대로.. \n",
    "\n",
    "- `py310_conda_pd15` 을 수정해서.. `py310_pip_pd` 와 동일한 코드결과를 얻었지만\n",
    "- 두 환경이 같다고 볼 수는 없다. "
   ]
  },
  {
   "cell_type": "markdown",
   "id": "a03c7318",
   "metadata": {},
   "source": [
    ":::{.callout-important}\n",
    "설치가 잘 되었지만, 동일코드에서 다른결과가 나오는 경우 (버전업그레드로 인해..)\n",
    ":::"
   ]
  },
  {
   "cell_type": "markdown",
   "id": "ea5c3481-7177-40fa-b782-e501f1a1f884",
   "metadata": {},
   "source": [
    "## 제 컴퓨터에서는 안돼요"
   ]
  },
  {
   "cell_type": "markdown",
   "id": "8f4d6461-fdcb-4298-bae8-dfecdc1e65e5",
   "metadata": {},
   "source": [
    "`-` 학생들 질문: 제 컴퓨터에서는 안되는데요.. 어쩌죠?\n",
    "\n",
    "- 답변1: 코랩에서 하세요.."
   ]
  },
  {
   "cell_type": "markdown",
   "id": "95f9b68f-d41e-42e6-a951-8cc865875298",
   "metadata": {},
   "source": [
    "`-` 학생들 질문2: `pip install pandas` 해도 안되는데요, 어쩌죠?\n",
    "\n",
    "- 답변1: 코랩해서 하세요.. \n",
    "- 진짜 많이 겪는 상황: 저는 꼭 제 노트북으로 해야겠습니다.. -> 아나콘다 쓰시나요? -> 쓰긴쓰는데........ -> 환경분리해서 실습했어요? -> ????? -> 제가 볼게요.. (찾아보니까) base에 있음.. \n",
    "- 답변2: 일단은 `pip install pandas -U` 해보세요 "
   ]
  },
  {
   "cell_type": "markdown",
   "id": "86c311f7-c169-4b14-9d54-f73fe12b4ead",
   "metadata": {},
   "source": [
    "`-` 답변2가 적절할까? "
   ]
  },
  {
   "cell_type": "markdown",
   "id": "00df4c09-5886-4f8b-ac37-09550608677c",
   "metadata": {},
   "source": [
    "`-` 가장 좋아하는 답변: 환경 새로 파세요"
   ]
  },
  {
   "cell_type": "markdown",
   "id": "279bb663-bc8c-41ce-b58c-da3e640a296b",
   "metadata": {
    "tags": []
   },
   "source": [
    "`-` 최악의 상황\n",
    "\n",
    "1. 일단 아나콘다는 깔아놓았음. \n",
    "2. 잘 몰라서 `(base)` 상태에서 이것저것 깔기 시작함. \n",
    "3. 교수랑 코드 \"똑.같.이.\" 쳤는데 내 컴퓨터에서는 안됨. \n",
    "4. 교수가 맥이라서 그런가보다 하고 인터넷에서 해결책 찾기 시작함. \n",
    "5. 뭐 하라는 대로 해서 이제까지 해결해 왔음. (버전은 점점 엉키기 시작함) \n",
    "6. 안되는건 잘하는 선배찾아가서 물어봤는데 귀신같이 해결해줌. (하지만 버전은 점점 더 엉키고 있음) \n",
    "7. 그런데 또 문제가 생겼고 이제는 해결못하겠음. \n",
    "8. 교수한테 찾아감 ->  교수가 해준다면서 `(base)`에서 새로운 환경 `(py310_pip_pd)`을 만들어서 이것저것 시도해 봄. \n",
    "9. 성공하면 다행인데, 실패함^[4학년쯤에는 이미 (base) 가 손쓸 수 없는 상태로 깨져있는 경우가 허다함. 공부를 열심히 한 학생일수록 그러함. 이럴경우 소생가능성이 없음]\n",
    "10. 이건 방법이 없다며 아나콘다를 지우고 재설치 시도. 그런데 윈도우에서는 아나콘다 지우는게 까다로움. (먼가 설정이 자꾸 남아있단 말이에요) \n",
    "11. 새로 계정만들어서 아나콘다 설치시도 -> 실패\n",
    "12. 교수도 사실 윈도우 잘 모른다고 하면서 회피. \n",
    "13. 포맷\n",
    "14. 1로 다시 돌아간 다음 아나콘다 깔고 1-13을 반복함. "
   ]
  },
  {
   "cell_type": "markdown",
   "id": "c003a3f1-eaa2-4bcc-976d-8c19934c2423",
   "metadata": {},
   "source": [
    "`-` 제발 `(base)`에 패키지 좀 설치하지 마세요.."
   ]
  },
  {
   "cell_type": "markdown",
   "id": "c578b16b-fb0a-4d34-95e5-b0950dec3307",
   "metadata": {},
   "source": [
    ":::{.callout-note}\n",
    "\n",
    "언제 `pip install`을 쓰고 언제 `conda install`을 써야할까? 답은없어요. 저는 대충 아래와 같이 합니다. (해보고 수틀리면 그냥 환경날리세여)\n",
    "\n",
    "- 만만한 패키지는 pip install 로 설치: numpy, pandas \n",
    "- 까다로운 패키지는 conda install 로 설치: torch, transformers, autogluon\n",
    ":::"
   ]
  },
  {
   "cell_type": "markdown",
   "id": "f231be00-cb72-451f-a4a4-b13a8d6040fe",
   "metadata": {},
   "source": [
    "## 가상환경 관리"
   ]
  },
  {
   "cell_type": "markdown",
   "id": "53948ea1-f062-4211-943c-22b3f642ec7c",
   "metadata": {},
   "source": [
    "`-` 가능하면 프로젝트별로 환경을 분리하는게 좋다. "
   ]
  },
  {
   "cell_type": "markdown",
   "id": "3f089aaa-6f43-4c83-a565-4a3b70e9f446",
   "metadata": {},
   "source": [
    "`-` 많은 종류의 패키지가 한 환경에 존재할수록, 그들을 조율하기는 점점 힘들어진다. "
   ]
  },
  {
   "cell_type": "markdown",
   "id": "8448304d-349b-4011-9b40-d076e030ec9c",
   "metadata": {},
   "source": [
    "`-` 하나의 환경에 모든 패키지를 때려밖아 설치하는건 패키지 충돌나라고 기도하는 꼴이다. "
   ]
  },
  {
   "cell_type": "markdown",
   "id": "8b320676",
   "metadata": {},
   "source": [
    ":::{.callout-important}\n",
    "`(base)` 에 패키지가 몰릴 경우 위험함\n",
    ":::"
   ]
  },
  {
   "cell_type": "markdown",
   "id": "520a23f7-483b-4356-ac1e-e4b63a10a95d",
   "metadata": {},
   "source": [
    "## 동일한 코드, 다른결과 (2)"
   ]
  },
  {
   "cell_type": "markdown",
   "id": "667d2bc4-2a44-4056-8452-175b9bed409e",
   "metadata": {},
   "source": [
    "`-` 십년감수: 저 진짜 식겁했어요.. \n",
    "\n",
    "- ref: <https://guebin.github.io/MP2024/posts/12wk-1.html>"
   ]
  },
  {
   "cell_type": "markdown",
   "id": "8342d696-694d-4efd-bc64-c9667c992a0b",
   "metadata": {},
   "source": [
    "`-` 지금!! (2024.12.27) 코랩에서 이거 해보세요 -- 실행안됨"
   ]
  },
  {
   "cell_type": "markdown",
   "id": "c909974e-ca58-4687-ba5c-9ebebd43c759",
   "metadata": {},
   "source": [
    "```Python \n",
    "!pip install evaluate\n",
    "import numpy as np\n",
    "import evaluate\n",
    "logits = np.array(\n",
    "    [[ 2.7346244, -3.1177292],\n",
    "     [ 2.7103324, -3.1362345],\n",
    "     [ 2.7464483, -3.0521457],\n",
    "     [ 2.7195318, -3.122628 ],\n",
    "     [ 2.7138977, -3.1041346],\n",
    "     [ 2.7398622, -3.1098123],\n",
    "     [ 0.0657177, -0.0930362],\n",
    "     [-2.7668718,  3.0918367]]\n",
    ")\n",
    "predictions = logits.argmax(axis=1)\n",
    "references = labels = np.array([0,0,0,0,0,0,1,1])\n",
    "rec = evaluate.load(\"recall\")\n",
    "rec.compute(predictions = predictions, references = references)\n",
    "```"
   ]
  },
  {
   "cell_type": "markdown",
   "id": "50f30741-6d98-41ba-bab5-d6b8514e5284",
   "metadata": {},
   "source": [
    "`-` 수업들을때 잘 되지 않았어요? "
   ]
  },
  {
   "cell_type": "markdown",
   "id": "88b4ce90-18db-4e17-bfb4-644f65873a23",
   "metadata": {},
   "source": [
    "## Github -- 집단지성의 끝판왕"
   ]
  },
  {
   "attachments": {},
   "cell_type": "markdown",
   "id": "75552b91-d831-49d1-ad37-b28359392719",
   "metadata": {},
   "source": [
    "`-` 구글코랩처럼 비밀저장소를 만드는게 아니고 공개저장소를 만들면 개발자 입장에서는 뭐가 좋을까?\n",
    "\n",
    "- <https://github.com/huggingface/evaluate>\n",
    "- <https://github.com/scikit-learn/scikit-learn> ## 어우 큰일날뻔 했어요 진짜.."
   ]
  },
  {
   "cell_type": "markdown",
   "id": "c1de5395-886c-47bb-aac0-1e1b0f77116a",
   "metadata": {},
   "source": [
    "`-` 해피엔딩? (전 엄청 보수적이라서요.. 별로 최신버전 쓰고싶진 않네요)\n",
    "\n",
    "- <https://github.com/huggingface/evaluate/pull/656>"
   ]
  },
  {
   "cell_type": "markdown",
   "id": "9ca15688",
   "metadata": {},
   "source": [
    ":::{.callout-important}\n",
    "너무 발전속도가 빠른 패키지의 경우 살짝 보수적인 버전을 쓰는것도 도움이 된다.\n",
    ":::"
   ]
  },
  {
   "cell_type": "markdown",
   "id": "0a6d51fe-3aaa-43a5-a475-eec3987eaf57",
   "metadata": {},
   "source": [
    "## 일반/sudo/슈퍼 유저"
   ]
  },
  {
   "cell_type": "markdown",
   "id": "663d761e-9ca3-4acd-8b5b-769d57c699ad",
   "metadata": {},
   "source": [
    "`-` `sudo` 아시죠? "
   ]
  },
  {
   "cell_type": "markdown",
   "id": "a7305071-db1c-4082-8d81-262be5a9e270",
   "metadata": {},
   "source": [
    "`-` 3가지 종류의 유저가 있음\n",
    "\n",
    "- 일반유저: `sudo`를 쓸 수 없는 유저\n",
    "- sudo 그룹유저, sudo 유저: `sudo`를 쓸 수 있는 유저, 평소에는 일반유저인듯 보이지만 `sudo`를 쓰는 순간 슈퍼유저(=루트유저)의 권한을 써서 행동할 수 있다.\n",
    "- 슈퍼유저 = 루트유저: 모든 행동이 슈퍼유저의 권한으로 하는 행동임!!"
   ]
  },
  {
   "cell_type": "markdown",
   "id": "f0b96160-228f-4ed8-878b-010babee6d36",
   "metadata": {},
   "source": [
    "`-` 심술을 좀 부려볼까요? \n",
    "\n",
    "- 차상진 cktkdwls111\n",
    "- 이상민 gkem0222\n",
    "- 신다빈 teq040810"
   ]
  },
  {
   "cell_type": "markdown",
   "id": "544acdbd-2676-49a5-8b4b-01bd22cd37bc",
   "metadata": {},
   "source": [
    "## `git` 설치"
   ]
  },
  {
   "cell_type": "markdown",
   "id": "fdd0b75c-b948-4fc0-9cf5-26f5181fe621",
   "metadata": {},
   "source": [
    "`-` 이 레포지토리 클론할수있어요? \n",
    "\n",
    "- <https://github.com/guebin/DSTBX2025>"
   ]
  },
  {
   "cell_type": "markdown",
   "id": "2b7671e4-7c24-48e2-89ac-3d61eec4da79",
   "metadata": {},
   "source": [
    "`-` `git`이 없죠? "
   ]
  },
  {
   "cell_type": "markdown",
   "id": "622dbb50-ddb4-402f-9be0-4af61127a1b3",
   "metadata": {},
   "source": [
    "`-` 설치할수있어요? \n",
    "\n",
    "```bash\n",
    "apt install git\n",
    "```"
   ]
  },
  {
   "cell_type": "markdown",
   "id": "8ce46bc8-b91e-4638-9121-fa62ab082542",
   "metadata": {},
   "source": [
    "`-` 깔아줄까요? "
   ]
  },
  {
   "cell_type": "markdown",
   "id": "034d6d34-0fea-4be7-97a0-122d95975d98",
   "metadata": {},
   "source": [
    "## 루트유저가 보는 세상 "
   ]
  },
  {
   "cell_type": "markdown",
   "id": "ad7a3a41-2750-4034-8722-6f4f45673441",
   "metadata": {},
   "source": [
    "`/root`\n",
    "\n",
    "-   루트사용자의 홈 디렉토리\n",
    "-   sudo로도 들어갈 수 없음\n",
    "\n",
    "`/etc`\n",
    "\n",
    "-   리눅스 시스템 전반적인 환경설정 파일들을 모은 디렉터리임.\n",
    "-   이 디렉터리의 모든 파일은 텍스트형식임.\n",
    "-   `/etc/password` 사용자 계정정보\n",
    "\n",
    "`/home`\n",
    "\n",
    "-   사용자의 홈 디렉터리\n",
    "\n",
    "`/mnt`\n",
    "\n",
    "-   다른 파일 시스템이 파일 시스템에 연결되거나 마운트 되는 위치\n",
    "\n",
    "`/media`\n",
    "\n",
    "-   CD, USB 장치가 파일 시스템에 연결되거나 마운트되는 위치임\n",
    "\n",
    "`/bin`\n",
    "\n",
    "-   시스템 부팅과 실행에 필요한 바이너리(=윈도도의 실행파일=macOS의\n",
    "    애플리케이션)들을 포함\n",
    "\n",
    "`/lib`\n",
    "\n",
    "-   시스템 프로그램에서 사용하는 공유 라이브러리가 저장. 윈도우즈의\n",
    "    DLL과 비슷한 것.\n",
    "\n",
    "`/usr`\n",
    "\n",
    "-   사용자가 사용하는 모든 프로그램과 지원파일들 (Program files +\n",
    "    프로그램들의 설정값)\n",
    "\n",
    "-   `/usr/bin` 리눅스 배포판이 설치한 실행 프로그램들이 있다. (여기에\n",
    "    R이 깔린다!!)\n",
    "\n",
    "    -   hp-align, hp-check, hp-config_usb-printer …\n",
    "    -   X11\n",
    "    -   vi\n",
    "    -   gcc\n",
    "    -   su, sudo\n",
    "    -   sar\n",
    "    -   ssh, ssh-agent, ssh-keygen, ….\n",
    "    -   nvidia-smi\n",
    "\n",
    "-   `/usr/lib` 여기에는 `/usr/bin`에 있는 프로그램들을 위한\n",
    "    공유라이브러리가 저장된다. 여기에 R folder가 있다. (R패키지는\n",
    "    여기말고 다른데 깔림)\n",
    "\n",
    "-   `/usr/local/bin` 소스코드로 컴파일된 파일, 보통 비어있음\n",
    "\n",
    "-   `/usr/local/lib/R/site-library` R패키지가 설치되어있음, 예를들면\n",
    "    tidyverse\n"
   ]
  },
  {
   "cell_type": "markdown",
   "id": "4796d88d-ded1-40f1-9d75-3f6321ea209b",
   "metadata": {},
   "source": [
    "## `ls`의 이름바꾸기"
   ]
  },
  {
   "cell_type": "markdown",
   "id": "9b4bc239-f59c-44fb-9990-c7abec91c004",
   "metadata": {},
   "source": [
    "`-` 루트유저는 생각보다 많은걸 할 수 있어요 "
   ]
  },
  {
   "cell_type": "markdown",
   "id": "e6ff78cc-9866-4f0d-8e2b-0131d08a8446",
   "metadata": {},
   "source": [
    "`-` 무섭죠? 그래서 그냥 `sudo`로 돌아가길 원합니다 보통은.. "
   ]
  },
  {
   "cell_type": "markdown",
   "id": "ccee5119",
   "metadata": {},
   "source": [
    ":::{.callout-important}\n",
    "루트유저의 권한을 이해\n",
    ":::"
   ]
  },
  {
   "cell_type": "markdown",
   "id": "02f3a898-be7d-42fe-87b7-aa6488d81a77",
   "metadata": {},
   "source": [
    "## 컴퓨터란?"
   ]
  },
  {
   "cell_type": "markdown",
   "id": "ffec98fa-d927-427d-b0ea-2282ee4c0c27",
   "metadata": {},
   "source": [
    "`-` 개념: 모든것은 파일과 폴더의 집합이다. "
   ]
  },
  {
   "cell_type": "markdown",
   "id": "b13add25-c206-41fd-b5c5-af4fd28e8ebc",
   "metadata": {},
   "source": [
    "`-` 183번 컴퓨터로 가보자. "
   ]
  },
  {
   "cell_type": "markdown",
   "id": "5dcc34da-04fc-4754-8bb0-7dc96af7dc2a",
   "metadata": {},
   "source": [
    "`-` 우분투컴퓨터에 `guebin`이라는 유저를 새롭게 추가했다 = `/home/guebin/` 를 만듦 "
   ]
  },
  {
   "cell_type": "markdown",
   "id": "5abaaf9e-654b-4cc7-8cab-018d3823f277",
   "metadata": {},
   "source": [
    "`-` 우분투에서 깃을 설치했다 = 우분투에서 `sudo apt-get install git`을 실행했다. = `/usr/bin/`에 `git`이라는 파일이 생겼다. = `/usr/bin/git` 생성 "
   ]
  },
  {
   "cell_type": "markdown",
   "id": "c4a9336d-574a-402f-a4cb-01c48f553960",
   "metadata": {
    "tags": []
   },
   "source": [
    "`-` `ls`는 우분투에 이미 내장되어있는 기능이다. = `ls`는 우분투에 이미 내장되어있는 명령파일이다. = 우분투를 설치하면 `/usr/bin/`에 `ls`라는 파일이 이미 있다. "
   ]
  },
  {
   "cell_type": "markdown",
   "id": "c820cf38-09c1-43a0-80e5-d1e5ca0ed957",
   "metadata": {},
   "source": [
    "`-` 우분투에 `guebin`이라는 유저를 등록했다. 이후에 `guebin`이라는 유저가 아나콘다를 설치했다. = 우분투에 `guebin`이라는 유저를 등록했다. 이후에 `guebin`이라는 유저는 아나콘다를 이용하여 가상의 (base)환경을 만들었다. = `/home/guebin/anaconda3/`폴더가 만들어졌다는 의미. "
   ]
  },
  {
   "cell_type": "markdown",
   "id": "ba540e15-9158-4d09-80dd-96870f14fbef",
   "metadata": {},
   "source": [
    "`-` 우분투에 `guebin`이라는 sudo유저를 등록했다. 이후에 `guebin`이라는 sudo유저가 루트권한을 이용하여 `git`을 설치했다. = `/home/guebin/` 이 만들어짐 + `/usr/bin/git` 생성 "
   ]
  },
  {
   "cell_type": "markdown",
   "id": "317d7f3c-6d3e-4192-956a-54d4bd48f782",
   "metadata": {},
   "source": [
    "## Anaconda"
   ]
  },
  {
   "cell_type": "markdown",
   "id": "6e1eab89-11b4-4654-a373-e8733d77abaf",
   "metadata": {},
   "source": [
    "`-` 아래를 실행하고 관찰해보자. "
   ]
  },
  {
   "cell_type": "markdown",
   "id": "090611f7-fb0c-47e0-8a42-1dfe783a3fd0",
   "metadata": {},
   "source": [
    "```bash\n",
    "(base) guebin@cgb3-desktop:~$ cd anaconda3/\n",
    "(base) guebin@cgb3-desktop:~/anaconda3$ ls\n",
    "```"
   ]
  },
  {
   "cell_type": "markdown",
   "id": "86c16572-99ba-4f07-ad24-b91371e4b257",
   "metadata": {},
   "source": [
    "`-` 이게 무엇인것 같나요? "
   ]
  },
  {
   "cell_type": "markdown",
   "id": "8d85b961-6470-4434-8a3f-a10457280bf1",
   "metadata": {},
   "source": [
    "`-` 이제 다시 아래를 실행하고 관찰해봅시다. "
   ]
  },
  {
   "cell_type": "markdown",
   "id": "640ab0cd-2ead-437b-b02b-1a6517e3b2c8",
   "metadata": {},
   "source": [
    "```bash\n",
    "(base) guebin@cgb3-desktop:~$ cd anaconda3/\n",
    "(base) guebin@cgb3-desktop:~/anaconda3$ cd envs/\n",
    "(base) guebin@cgb3-desktop:~/anaconda3/envs$ cd first\n",
    "(base) guebin@cgb3-desktop:~/anaconda3/envs/first$ ls\n",
    "```"
   ]
  },
  {
   "cell_type": "markdown",
   "id": "1c4ff45f-de6f-4b1f-a7e3-6b5d388b37d3",
   "metadata": {},
   "source": [
    "`-` 이건 뭐인것 같아요? "
   ]
  },
  {
   "cell_type": "markdown",
   "id": "df79397a",
   "metadata": {},
   "source": [
    ":::{.callout-important}\n",
    "컴퓨터/가상컴퓨터에 대한 해석\n",
    ":::"
   ]
  },
  {
   "cell_type": "markdown",
   "id": "9ad6c641-a514-405c-9308-ac809e518c1a",
   "metadata": {},
   "source": [
    "## `git` 설치하기"
   ]
  },
  {
   "cell_type": "markdown",
   "id": "0c1b7f3f-72e1-4fb6-8078-631a43534c07",
   "metadata": {},
   "source": [
    "`-` 루트유저가 횡포를 부려서 다시 깃을 지웠습니다. \n",
    "\n",
    "```bash\n",
    "sudo apt remove git\n",
    "```"
   ]
  },
  {
   "attachments": {},
   "cell_type": "markdown",
   "id": "f12f44a6-74ac-48d5-bbce-57fa316100bd",
   "metadata": {},
   "source": [
    "`-` 치사해서 내가 깝니다\n",
    "\n",
    "```bash\n",
    "conda create -n git\n",
    "conda activate git \n",
    "conda install -c conda-forge git\n",
    "```"
   ]
  },
  {
   "cell_type": "markdown",
   "id": "802f0034-c5d4-4268-9584-22cc8c7f01e1",
   "metadata": {},
   "source": [
    "`-` 나는 일반유저인 `guebin` 이지만 콘다환경 한정하여 루트유저급"
   ]
  },
  {
   "cell_type": "markdown",
   "id": "ce612071-43aa-4a72-9a6a-b20196cebc8b",
   "metadata": {},
   "source": [
    "## 폴더의 레벨 "
   ]
  },
  {
   "cell_type": "markdown",
   "id": "ca2062bd-8032-48ae-b69f-83f35468dc8a",
   "metadata": {},
   "source": [
    "`-` 183번 컴퓨터에는 4개의 중첩된 컴퓨터(=폴더)가 존재한다. \n",
    "\n",
    "- root우분투\n",
    "- guebin우분투\n",
    "- guebin우분투-(base)\n",
    "- guebin우분투-(py310)"
   ]
  },
  {
   "cell_type": "markdown",
   "id": "e3e6cbee-5dd9-459f-b08d-47668bf22305",
   "metadata": {},
   "source": [
    "`-` 영향력은 하위폴더에 행사할 수 있다. "
   ]
  },
  {
   "cell_type": "markdown",
   "id": "67e7d22a-896f-472e-9138-b1dcdb5fc5e5",
   "metadata": {},
   "source": [
    "## 난 어디에 깃을 설치했어? "
   ]
  },
  {
   "cell_type": "markdown",
   "id": "73cf3ce6-e7bc-4e42-be8c-e0ad92f90c59",
   "metadata": {},
   "source": [
    "`# 문제1`: 183번 컴퓨터에는 4개의 중첩된 컴퓨터(=폴더)가 존재한다. \n",
    "\n",
    "1. root우분투\n",
    "2. guebin우분투\n",
    "3. guebin우분투-(base)\n",
    "4. guebin우분투-(py310)\n",
    "\n",
    "아래의 명령을 통하여 깃을 설치했다. \n",
    "\n",
    "```bash\n",
    "(base) sudo apt-get install git \n",
    "```\n",
    "\n",
    "깃은 어디에 설치되어있는가? "
   ]
  },
  {
   "cell_type": "markdown",
   "id": "b55ee87c-0219-48de-b836-372bca6fa7b1",
   "metadata": {},
   "source": [
    "> 정답은 1번입니다! 깃이 어디에 깔리는지를 생각하세요!"
   ]
  },
  {
   "cell_type": "markdown",
   "id": "d9f38f9b-ff6a-4750-a0dc-25920b30247b",
   "metadata": {},
   "source": [
    "`#`"
   ]
  },
  {
   "cell_type": "markdown",
   "id": "0b6fec01-8a77-478a-ab52-99e562b3524f",
   "metadata": {},
   "source": [
    "`# 문제2`: 183번 컴퓨터에는 4개의 중첩된 컴퓨터(=폴더)가 존재한다. \n",
    "\n",
    "1. root우분투\n",
    "2. guebin우분투\n",
    "3. guebin우분투-(base)\n",
    "4. guebin우분투-(py310)\n",
    "\n",
    "아래와 같이 깃을 설치했다. \n",
    "\n",
    "```bash\n",
    "(py310) sudo apt-get install git \n",
    "```\n",
    "\n",
    "깃은 어디에 설치되어있는가? "
   ]
  },
  {
   "cell_type": "markdown",
   "id": "e33c0f19-85e1-49b2-8d52-b59393e26b70",
   "metadata": {},
   "source": [
    "> 정답은 1번입니다! 깃이 어디에 깔리는지를 생각하세요!"
   ]
  },
  {
   "cell_type": "markdown",
   "id": "d0052464-3b75-43b6-a161-fa393db1e5ad",
   "metadata": {},
   "source": [
    "`#`"
   ]
  },
  {
   "cell_type": "markdown",
   "id": "00f77608-bc46-49e5-9bd7-2be2c2feaf41",
   "metadata": {},
   "source": [
    "`# 문제3`: 183번 컴퓨터에는 4개의 중첩된 컴퓨터(=폴더)가 존재한다. \n",
    "\n",
    "1. root우분투\n",
    "2. guebin우분투\n",
    "3. guebin우분투-(base)\n",
    "4. guebin우분투-(py310)\n",
    "\n",
    "아래의 명령을 통하여 깃을 설치했다. \n",
    "\n",
    "```bash\n",
    "(py310) conda install -c conda-forge git \n",
    "```\n",
    "\n",
    "깃은 어디에 설치되어있는가? "
   ]
  },
  {
   "cell_type": "markdown",
   "id": "df719851-84c6-4355-91b1-49c1a965e0cc",
   "metadata": {},
   "source": [
    "> 정답은 4번입니다!"
   ]
  },
  {
   "cell_type": "markdown",
   "id": "7716bd0e-6afb-4b4f-8dea-b40d44292b0b",
   "metadata": {},
   "source": [
    "`#`"
   ]
  },
  {
   "cell_type": "markdown",
   "id": "a586df4e-d58c-4d70-819c-507d5a02544a",
   "metadata": {},
   "source": [
    "`# 문제4`: 183번 컴퓨터에는 4개의 중첩된 컴퓨터(=폴더)가 존재한다. \n",
    "\n",
    "1. root우분투\n",
    "2. guebin우분투\n",
    "3. guebin우분투-(base)\n",
    "4. guebin우분투-(py310)\n",
    "\n",
    "아래와 같이 깃을 설치했다. \n",
    "\n",
    "```bash\n",
    "(base) conda install -c conda-forge git \n",
    "## 문제를 위해서 만들긴 했는데요, 제발 (base)에 머 설치하지 좀 마세요\n",
    "```\n",
    "\n",
    "깃은 어디에 설치되어있는가?\n",
    "\n",
    "> 정답은 3번 입니다!\n",
    "\n",
    "`#`"
   ]
  },
  {
   "cell_type": "markdown",
   "id": "8d55b9ac-17f9-4913-85eb-28d411de3a27",
   "metadata": {},
   "source": [
    ":::{.callout-note}\n",
    "우리가 예전에 만든 `publish.sh` 파일 있잖아요?\n",
    "\n",
    "- 이걸 프로그램이라고 해석할 수도 있죠? (그렇다고 칩시다)\n",
    "- 그럼 이 프로그램은 어떤 컴퓨터에 설치되었을까요?\n",
    "- 어떤 폴더에 이 파일을 넣느냐에 따라 다르겠죠.. \n",
    "\n",
    ":::"
   ]
  },
  {
   "cell_type": "markdown",
   "id": "a57f3cd9-39dd-4236-bd5e-37de28319861",
   "metadata": {},
   "source": [
    "## 환경삭제 "
   ]
  },
  {
   "cell_type": "markdown",
   "id": "558d76bd-3320-414d-9943-897d0ad556d6",
   "metadata": {},
   "source": [
    "`-` 이제 183컴퓨터를 떠날준비를 합시다. "
   ]
  },
  {
   "cell_type": "markdown",
   "id": "648fc072-1fdd-4f5c-82e7-ff67f3af1e74",
   "metadata": {},
   "source": [
    "`-` 아나콘다 환경을 삭제하는 방법"
   ]
  },
  {
   "cell_type": "markdown",
   "id": "ff8662f8",
   "metadata": {},
   "source": [
    ":::{.callout-important}\n",
    "가상환경에 대한 저의 이해방식\n",
    "\n",
    "- 가상환경은 폴더/파일의 집합으로 이해가능\n",
    "- 아나콘다에서 환경삭제도 폴더삭제로 대체하여 생각할 수 있음\n",
    ":::"
   ]
  },
  {
   "cell_type": "markdown",
   "id": "8389d024-6fa8-4a88-8b00-e4f1f460db96",
   "metadata": {},
   "source": [
    "## `rpy2`"
   ]
  },
  {
   "cell_type": "markdown",
   "id": "94159fda-a2b8-4b01-a3f1-a4d3cc8e92e7",
   "metadata": {},
   "source": [
    "`-` 186 컴퓨터 갑시다.\n",
    "\n",
    "- sudo 유저도 아니고 슈퍼유저에요!!"
   ]
  },
  {
   "cell_type": "markdown",
   "id": "95c1d45d-fc06-467c-87ec-a666b67b3224",
   "metadata": {},
   "source": [
    "`-` 아래를 실행: R에 필요한 ubuntu-level의 프로그램\n",
    "\n",
    "```bash\n",
    "apt-get update\n",
    "apt-get install -y \\\n",
    "    libxt6 \\\n",
    "    libxrender1 \\\n",
    "    libcairo2 \\\n",
    "    libx11-dev \\\n",
    "    libxt-dev \\\n",
    "    libxrender-dev \\\n",
    "    libcairo2-dev\n",
    "```"
   ]
  },
  {
   "attachments": {},
   "cell_type": "markdown",
   "id": "c2e79d48-720b-4daa-ae34-f685957b4911",
   "metadata": {},
   "source": [
    "`-` 아래를 실행 \n",
    "\n",
    "```bash\n",
    "(base) conda create -n rpy2\n",
    "(base) conda activate rpy2\n",
    "(rpy2) conda install r::rpy2\n",
    "(rpy2) conda install -c conda-forge notebook\n",
    "(rpy2) pip install numpy\n",
    "```"
   ]
  },
  {
   "attachments": {},
   "cell_type": "markdown",
   "id": "cd30d08b-ed9c-4374-94f3-1ba23b71210c",
   "metadata": {},
   "source": [
    "`-` 아래를 실행.. (포트는 학번제외하고 하나 쓰세요)\n",
    "\n",
    "```bash\n",
    "jupyter lab --ip=\"0.0.0.0\" --port=12345 --no-browser --allow-root\n",
    "```"
   ]
  },
  {
   "cell_type": "markdown",
   "id": "f13e00d0-f756-4f7e-8c11-60d1e22dd2c2",
   "metadata": {},
   "source": [
    "`-` 주피터에서 이걸 치고 코딩해보세요 "
   ]
  },
  {
   "cell_type": "markdown",
   "id": "ddfa87e1-2156-422a-9873-f2163d04053c",
   "metadata": {},
   "source": [
    "```Python\n",
    "import numpy as np\n",
    "import rpy2\n",
    "%load_ext rpy2.ipython\n",
    "```"
   ]
  },
  {
   "cell_type": "markdown",
   "id": "94973107-12a0-49aa-a0d6-65d5886f7966",
   "metadata": {},
   "source": [
    "`-` 당장 이거 3개만 알면 쓸만해요\n",
    "\n",
    "- `%%R`\n",
    "- `%R -i ???` \n",
    "- `%R -o ???`"
   ]
  },
  {
   "cell_type": "markdown",
   "id": "28e32ecb-d332-46a6-a55f-9d4ddce7093f",
   "metadata": {},
   "source": [
    "`-` 응용.. \n",
    "\n",
    "```Python\n",
    "%%R\n",
    "set.seed(123)\n",
    "x <- 1:10\n",
    "y <- 2.5 * x + rnorm(10, mean = 0, sd = 2)  # y = 2.5x + noise\n",
    "plot(x,y)\n",
    "model <- lm(y ~ x)\n",
    "beta <- model$coef\n",
    "print(beta)\n",
    "```"
   ]
  },
  {
   "cell_type": "markdown",
   "id": "dce36c7e-7616-4d07-a01a-d8a3d461e72f",
   "metadata": {},
   "source": [
    "```Python\n",
    "%R -o beta\n",
    "```"
   ]
  },
  {
   "cell_type": "markdown",
   "id": "5aacf8b4-0fc6-432e-b9ad-15ecc71f916b",
   "metadata": {},
   "source": [
    "`-` 이거는 하나의 메모장에 두 개의 커널이 붙어있는 경우입니다. "
   ]
  },
  {
   "cell_type": "markdown",
   "id": "db7d5a70-0586-41c7-afc6-f4ad2a69a3d2",
   "metadata": {},
   "source": [
    "`-` R,Python의 여러패키지 조합은 맞추기 어려워서요.. 스스로 환경 계속 새로 파면서 노가다해봐야합니다 "
   ]
  },
  {
   "cell_type": "markdown",
   "id": "bc44fc08",
   "metadata": {},
   "source": [
    ":::{.callout-important}\n",
    "rpy 환경 구축 및 실습\n",
    ":::"
   ]
  },
  {
   "cell_type": "markdown",
   "id": "eb8d3040-ee95-467e-9857-e9398a7ce942",
   "metadata": {},
   "source": [
    "## 주피터랩 2개 켜기"
   ]
  },
  {
   "cell_type": "markdown",
   "id": "517c9797-2b2f-48c5-9f1a-2d61f2c86b17",
   "metadata": {},
   "source": [
    "`-` `first` 에서 하나.. `rpy2` 에서 하나.."
   ]
  },
  {
   "cell_type": "markdown",
   "id": "ef74953c-52e8-46f7-95ac-e37ca7316d32",
   "metadata": {},
   "source": [
    "`-` 매번 이런거 하기 어렵죠?"
   ]
  },
  {
   "cell_type": "markdown",
   "id": "97a7c069-f2dd-47a7-8e33-23df37e74561",
   "metadata": {},
   "source": [
    "## `tmux` 이용하기 "
   ]
  },
  {
   "cell_type": "markdown",
   "id": "4fe82730-a8b3-423d-8a3a-0ce0943f06bd",
   "metadata": {},
   "source": [
    "`-` `tmux` 가 뭔가?\n",
    "\n",
    "- `python` 보다 `ipython` 이 좋잖아요?\n",
    "- 일반적인 `terminal` 보다 `tmux`가 좋아요!"
   ]
  },
  {
   "cell_type": "markdown",
   "id": "4b677689-377a-456e-82f7-f4f532d98bac",
   "metadata": {},
   "source": [
    "`-` 이것만 기억하세요\n",
    "\n",
    "- `tmux ls`\n",
    "- `tmux`, `tmux new -t asdf`\n",
    "- `ctrl + b` $\\to$ `d`\n",
    "- `tmux attach -t 0`, `tmux attach -t asdf`\n",
    "- `ctrl + d` "
   ]
  },
  {
   "cell_type": "markdown",
   "id": "634d1b4c-b230-4bac-99db-155487223ded",
   "metadata": {},
   "source": [
    "## 주피터랩 평생 켜놓기"
   ]
  },
  {
   "cell_type": "markdown",
   "id": "fa10edda-abdf-4af4-8d22-1f539035b047",
   "metadata": {},
   "source": [
    "`-` 세 가지 방법이 있음\n",
    "\n",
    "- 백엔드에서 실행\n",
    "- `nohup`을 이용\n",
    "- `tmux`를 이용 (이것만 알면됩니다)"
   ]
  },
  {
   "cell_type": "markdown",
   "id": "cebe1c4c-c8da-4d81-9568-de3c317ffe39",
   "metadata": {},
   "source": [
    "## 포트정리 (`lsof`)"
   ]
  },
  {
   "cell_type": "markdown",
   "id": "629d686a-3e75-48aa-b16c-5e64e7148cdf",
   "metadata": {},
   "source": [
    "`-` 내가 어떤포트에 어떤환경의 주피터를 켰는지 헷갈린다면? "
   ]
  },
  {
   "cell_type": "markdown",
   "id": "491ce6e1-b98c-4cd0-b4fd-daabd5b16f3d",
   "metadata": {},
   "source": [
    "`-` `lsof` 프로그램 설치 \n",
    "\n",
    "```bash\n",
    "apt-get install lsof\n",
    "apt install lsof \n",
    "```"
   ]
  },
  {
   "cell_type": "markdown",
   "id": "43ed4244-c8ed-41ba-9690-fbd489087415",
   "metadata": {},
   "source": [
    "`-` 1307 포트를 사용하는 프로그램이 있는지 파악 \n",
    "\n",
    "```bash \n",
    "lsof -i :1307\n",
    "```"
   ]
  },
  {
   "cell_type": "markdown",
   "id": "46ad9806-4e64-4da9-8a0d-56fe15cb42c4",
   "metadata": {},
   "source": [
    "결과는 아래와 같은 예시로 나옴 "
   ]
  },
  {
   "cell_type": "markdown",
   "id": "e3650b06-f674-4be1-ad5c-cc61369558ff",
   "metadata": {},
   "source": [
    "```\n",
    "COMMAND      PID USER   FD   TYPE    DEVICE SIZE/OFF NODE NAME\n",
    "jupyter-l 862165 root    6u  IPv4 383551982      0t0  TCP *:1307 (LISTEN)\n",
    "jupyter-l 862165 root   12u  IPv4 383671448      0t0  TCP 8c8831330c68:23052->210.117.173.181:59663 (ESTABLISHED)\n",
    "jupyter-l 862165 root   16u  IPv4 383628690      0t0  TCP 8c8831330c68:23052->210.117.173.181:59664 (ESTABLISHED)\n",
    "jupyter-l 862165 root   29u  IPv4 383612831      0t0  TCP 8c8831330c68:23052->210.117.173.181:59720 (ESTABLISHED)\n",
    "jupyter-l 862165 root   34u  IPv4 383671463      0t0  TCP 8c8831330c68:23052->210.117.173.181:59667 (ESTABLISHED)\n",
    "```"
   ]
  },
  {
   "cell_type": "markdown",
   "id": "8e117353-95b8-46df-917d-fa863a4933c5",
   "metadata": {},
   "source": [
    "`-` 각자해볼것: `ssh` 접속시 사용하는 포트 제외하고 나머지 포트를 쓰고 있는 프로그램은 삭제 \n",
    "\n",
    "```bash\n",
    "kill {PID}\n",
    "```\n",
    "\n",
    "위의 예시의 경우 \n",
    "\n",
    "```bash\n",
    "kill 862165\n",
    "```\n"
   ]
  },
  {
   "cell_type": "markdown",
   "id": "2ecd4167-fd59-48a0-9913-45f72dc666f4",
   "metadata": {},
   "source": [
    "`-` 주피터랩 평생켜놓기 + 끄기 (이거 자유자재로 할 수 있어야함) "
   ]
  },
  {
   "cell_type": "markdown",
   "id": "c2ecb9ca-756e-4ba8-b0ed-77ce211b6668",
   "metadata": {},
   "source": [
    "`-` PID를 조회하는 다른방법  \n",
    "    \n",
    "```bash\n",
    "ps aux | grep jupyter\n",
    "```"
   ]
  },
  {
   "cell_type": "markdown",
   "id": "1ea8a4b3",
   "metadata": {},
   "source": [
    ":::{.callout-important}\n",
    "주피터 커널 관리\n",
    ":::"
   ]
  },
  {
   "cell_type": "markdown",
   "id": "d83c5a5d-6642-4a9e-a514-70142995312c",
   "metadata": {},
   "source": [
    "## R 전용 개발환경 만들기 "
   ]
  },
  {
   "cell_type": "markdown",
   "id": "9a5dab4f-e828-4288-b00f-9e9d8468b090",
   "metadata": {},
   "source": [
    "`-` 아래를 실행 \n",
    "\n",
    "```bash\n",
    "conda create -n renv\n",
    "conda activate renv\n",
    "conda install r::r-essentials\n",
    "```"
   ]
  },
  {
   "cell_type": "markdown",
   "id": "bf2f9c55-9f18-4fbf-a90f-589fff447f32",
   "metadata": {},
   "source": [
    "`-` 여기에서 `conda install -c conda-forge r-essentials`로 인하여 R, Python, Jupyter 가 모두 최신버전으로 설치된다."
   ]
  },
  {
   "cell_type": "markdown",
   "id": "698aa150-e69d-4975-8546-c2eaf82e05d5",
   "metadata": {},
   "source": [
    "`-` 또한 R에는 이미 `tidyverse`, `IRkernel` 등의 패키지가 기본으로 깔려있다."
   ]
  },
  {
   "attachments": {},
   "cell_type": "markdown",
   "id": "bdf91170-367a-4def-8471-37831fa0ffcf",
   "metadata": {},
   "source": [
    "`-` 아래를 실행.. (포트는 안겹치게)\n",
    "\n",
    "```bash\n",
    "jupyter lab --ip=\"0.0.0.0\" --port=12345 --no-browser --allow-root\n",
    "```"
   ]
  },
  {
   "cell_type": "markdown",
   "id": "8785b7e7-9895-49fb-8a54-e68dfe8bb96d",
   "metadata": {},
   "source": [
    "`-` R 노트북이 잘 열리는가?"
   ]
  },
  {
   "cell_type": "markdown",
   "id": "ecc9b242-d098-452f-8724-04b4ba5d6ef3",
   "metadata": {},
   "source": [
    "## R은 어디에 있음? "
   ]
  },
  {
   "attachments": {},
   "cell_type": "markdown",
   "id": "3d4205d7-d5ed-4698-837f-b9a3077e83af",
   "metadata": {},
   "source": [
    "`-` R이 설치된 경로를 찾아보자. \n",
    "\n",
    "- 수틀리면 이 R을 지우면 된다."
   ]
  },
  {
   "cell_type": "markdown",
   "id": "5d4d7bc6-89d1-4a4b-ae8f-b3a1e0ea4ecb",
   "metadata": {},
   "source": [
    ":::{.callout-note}\n",
    "\n",
    "R이 설치될 수 있는 3가지 시나리오 \n",
    "\n",
    "```bash\n",
    "sudo apt-get install r-base # r 공식홈페이지, 수틀리면 리눅스 포맷  \n",
    "(base) conda install -c conda-forge ... # 수틀리면 아나콘다 삭제해야함. \n",
    "(renv) conda install -c conda-forge ... # 수틀리면 가상환경 삭제 \n",
    "```\n",
    ":::"
   ]
  },
  {
   "cell_type": "markdown",
   "id": "c71f883d-b315-4da8-bcf8-7ca129c268cc",
   "metadata": {},
   "source": [
    "## `(base)`에서 R 실행 "
   ]
  },
  {
   "cell_type": "markdown",
   "id": "8c45a476-aedd-490a-a344-918f265c394b",
   "metadata": {},
   "source": [
    "`-` 원래는 불가능한 일이겠죠? "
   ]
  },
  {
   "cell_type": "markdown",
   "id": "a1a57143-6b82-4a1f-aabc-451daf65cbfe",
   "metadata": {},
   "source": [
    "`-` 억지로 가능하게 하려면? "
   ]
  },
  {
   "cell_type": "markdown",
   "id": "34274ac2-1247-4343-b4d6-1e42c3fd0676",
   "metadata": {},
   "source": [
    "## Rstudio 사용하기"
   ]
  },
  {
   "cell_type": "markdown",
   "id": "addea885-2464-4e9b-a092-f711b9f91b2d",
   "metadata": {},
   "source": [
    "`-` 아래를 이용하여 Rstudio를 설치 // base환경에서 실행하든 renv환경에서 실행하든 상관없음 (왜?)"
   ]
  },
  {
   "cell_type": "markdown",
   "id": "b57e9113-4e29-4326-bc38-325e3974eff2",
   "metadata": {},
   "source": [
    "```bash\n",
    "apt-get install gdebi-core\n",
    "wget https://download2.rstudio.org/server/jammy/amd64/rstudio-server-2022.12.0-353-amd64.deb\n",
    "gdebi rstudio-server-2022.12.0-353-amd64.deb\n",
    "```"
   ]
  },
  {
   "cell_type": "markdown",
   "id": "b271d924-6a4c-42eb-84f7-c63bd12e8074",
   "metadata": {},
   "source": [
    "`-` `grst`가 만든 `rstudio-server-conda`를 클론 \n",
    "\n",
    "```bash\n",
    "git clone https://github.com/grst/rstudio-server-conda.git\n",
    "```"
   ]
  },
  {
   "cell_type": "markdown",
   "id": "0696d124-0c14-444a-998b-33823df8bb66",
   "metadata": {},
   "source": [
    "`-` `~/rstudio-server-conda/local/start_rstudio_server.sh` 의 맨아래를 아래와 같이 수정\n",
    "\n",
    "```{.bash filename=~/rstudio-server-conda/local/start_rstudio_server.sh}\n",
    "...\n",
    "/usr/lib/rstudio-server/bin/rserver --server-daemonize=0 \\\n",
    "  --www-port=12345 \\\n",
    "  --auth-minimum-user-id=0 \\\n",
    "  --secure-cookie-key-file=$COOKIE_KEY_PATH \\\n",
    "  --server-pid-file=\"$CWD/rstudio-server.pid\" \\\n",
    "  --server-data-dir=\"$CWD/rstudio-server\" \\\n",
    "  --rsession-which-r=$(which R) \\\n",
    "  --rsession-ld-library-path=$CONDA_PREFIX/lib \\\n",
    "  --rsession-path=\"$CWD/rsession.sh\" \\\n",
    "  --server-user $USER \\\n",
    "  --database-config-file \"$CWD/database.conf\" \\\n",
    "  $REVOCATION_LIST_PAR\n",
    "```"
   ]
  },
  {
   "cell_type": "markdown",
   "id": "720101c5-b643-40e5-9fdd-e28a05ac7d2c",
   "metadata": {},
   "source": [
    "`-` `start_rstudio_server.sh`를 실행 \n",
    "\n",
    "- 어디서 실행해야 할까요?? `base`? `renv`?\n",
    "- R이 설치된 `renv`에서 해야함 (그래야 커널이랑 붙을테니까)"
   ]
  },
  {
   "cell_type": "markdown",
   "id": "c294024e",
   "metadata": {},
   "source": [
    ":::{.callout-important}\n",
    "R을 이용하는 개발환경 구축\n",
    ":::"
   ]
  },
  {
   "cell_type": "markdown",
   "id": "2ecdb56c-69da-4c55-bf2f-45232e8a73b3",
   "metadata": {},
   "source": [
    "## 여러가지 프로그램"
   ]
  },
  {
   "cell_type": "markdown",
   "id": "a17aad2c-e009-448a-bbc2-442ec7e67133",
   "metadata": {
    "tags": []
   },
   "source": [
    "`-` 우분투자체의 프로그램\n",
    "\n",
    "- 우분투 자체의 프로그램 예시: git, quarto, python, R, anaconda, vi, ssh, wget, vscode\n",
    "- 우분투 자체의 프로그램은 다시 모든 유저가 영향을 받는 받는 프로그램과 그렇지 않은 프로그램이 있음 \n",
    "- 우분투 자체의 프로그램을 설치하는 방법들 \n",
    "\n",
    "```bash\n",
    "sudo apt install git \n",
    "sudo apt-get install git \n",
    "sudo dpkg -i quarto-1.4.533-linux-amd64.deb \n",
    "bash Anaconda3-2019.03-Linux-x86_64.sh\n",
    "sudo gdebi rstudio-server-1.2.5033-amd64.deb\n",
    "# 기타 파일을 넣을 수 있는 모든 방법 (예를들면 압축파일 다운로드후 풀기) \n",
    "```"
   ]
  },
  {
   "cell_type": "markdown",
   "id": "07887ca1-83c4-4c0d-8d08-f9cce6d2821a",
   "metadata": {},
   "source": [
    "`-` 아나콘다(=base)에 종속된 프로그램\n",
    "\n",
    "- 아나콘다내에 종속된 프로그램의 예시: `conda`, `python`, `R`, `jupyter`\n",
    "- 아나콘다에 종속된 프로그램은 `anaconda3` 폴더안에 있음. "
   ]
  },
  {
   "cell_type": "markdown",
   "id": "9b3271f3-58f2-4173-b25b-ffd634775607",
   "metadata": {},
   "source": [
    "`-` 아나콘다환경(=py310)에 종속시킬 수 \"있는\" 프로그램\n",
    "\n",
    "- 아나콘다내에 종속된 프로그램의 예시: `python`, `R`, `jupyter`\n",
    "- 아나콘다환경에 종속된 프로그램은 `anaconda3/envs/py310` 와 같은 형식의 폴더안에 있음. "
   ]
  },
  {
   "cell_type": "markdown",
   "id": "7e7c5b19-1091-4c92-9aca-99b4d4364662",
   "metadata": {},
   "source": [
    "`-` 파이썬에 종속된 프로그램 (=파이썬패키지=파이썬라이브러리=파이썬모듈)\n",
    "\n",
    "- 파이썬에 종속된 프로그램 예시: `numpy`, `pandas`\n",
    "- 얘네들이 어디에 깔리는지는 그때그때 다름 \n",
    "- 지우는 방법도 그때그때 다르겠지? (젤 편하고 깔끔하게 지우려면?)"
   ]
  },
  {
   "cell_type": "markdown",
   "id": "e13eaa6e-5452-4d95-adbc-197895cc006a",
   "metadata": {},
   "source": [
    "`-` R에 종속된 프로그램 (=R패키지=R라이브러리)\n",
    "\n",
    "- R에 종속된 프로그램의 예시: `tidyverse`\n",
    "- 얘들이 어디 깔리는지도 그때그때 다름 \n",
    "- 지우는 방법도 그때그때 다르겠지? (젤 편하고 깔끔하게 지우려면?) "
   ]
  },
  {
   "cell_type": "markdown",
   "id": "4d8a723c",
   "metadata": {},
   "source": [
    ":::{.callout-important}\n",
    "우분투에 설치하는 프로그램 종류\n",
    ":::"
   ]
  },
  {
   "cell_type": "markdown",
   "id": "69b3637d-07e0-4ba8-b469-7bf57062ed04",
   "metadata": {},
   "source": [
    "## `jupyterlab-desktop`"
   ]
  },
  {
   "attachments": {},
   "cell_type": "markdown",
   "id": "567d5368-9fea-4d2d-9506-6bf43f18f0ce",
   "metadata": {},
   "source": [
    "`-` 주피터랩 app! (저는 좋더라고요)\n",
    "\n",
    "- <https://github.com/jupyterlab/jupyterlab-desktop>"
   ]
  },
  {
   "cell_type": "markdown",
   "id": "5c5798c2-606e-41c7-afce-a14e1716dcc4",
   "metadata": {},
   "source": [
    "`-` 굳이 로칼에 파이썬을 설치하진 않고 `remote` 로만 써요"
   ]
  },
  {
   "cell_type": "markdown",
   "id": "8cac1874-dfc2-4663-bb3e-60b5d7e987ec",
   "metadata": {},
   "source": [
    "`-` 아래를 설정하는걸 좋아함. (취향차이??)"
   ]
  },
  {
   "attachments": {
    "e18a5889-271e-4186-8168-e9f9970c6c4c.png": {
     "image/png": "[encoded data removed]"
    }
   },
   "cell_type": "markdown",
   "id": "d7006a4b-094e-415b-a79d-fe0804b2d5eb",
   "metadata": {},
   "source": [
    "![](attachment:e18a5889-271e-4186-8168-e9f9970c6c4c.png)"
   ]
  },
  {
   "cell_type": "markdown",
   "id": "a7e57cc1",
   "metadata": {},
   "source": [
    ":::{.callout-important}\n",
    "주피터랩서버를 이용한 개발환경 구축\n",
    ":::"
   ]
  }
 ],
 "metadata": {
  "kernelspec": {
   "display_name": "hf",
   "language": "python",
   "name": "python3"
  },
  "language_info": {
   "codemirror_mode": {
    "name": "ipython",
    "version": 3
   },
   "file_extension": ".py",
   "mimetype": "text/x-python",
   "name": "python",
   "nbconvert_exporter": "python",
   "pygments_lexer": "ipython3",
   "version": "3.12.2"
  }
 },
 "nbformat": 4,
 "nbformat_minor": 5
}
